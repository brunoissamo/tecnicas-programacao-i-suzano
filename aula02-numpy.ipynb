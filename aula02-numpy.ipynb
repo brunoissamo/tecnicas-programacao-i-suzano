{
 "cells": [
  {
   "cell_type": "markdown",
   "id": "396e845d",
   "metadata": {},
   "source": [
    "# Numpy\n",
    "\n",
    "Hoje, vamos começara ver a biblioteca matemática mais importante pro ecossistema \n",
    "científico do Python: O Numpy."
   ]
  },
  {
   "cell_type": "markdown",
   "id": "a5994e92",
   "metadata": {},
   "source": [
    "Vamos relembrar alguns conceitos"
   ]
  },
  {
   "cell_type": "code",
   "execution_count": null,
   "id": "df7119fb",
   "metadata": {},
   "outputs": [],
   "source": [
    "lista = [\"a\", 2, 2.4, True, [1, 3], {\"a\": 1}]"
   ]
  },
  {
   "cell_type": "code",
   "execution_count": null,
   "id": "a2b0a0b5",
   "metadata": {},
   "outputs": [],
   "source": [
    "lista.append(\"Olá\")"
   ]
  },
  {
   "cell_type": "code",
   "execution_count": null,
   "id": "6a9d0ef4",
   "metadata": {},
   "outputs": [],
   "source": [
    "lista"
   ]
  },
  {
   "cell_type": "code",
   "execution_count": null,
   "id": "255aec1a",
   "metadata": {},
   "outputs": [],
   "source": [
    "a = 42.5"
   ]
  },
  {
   "cell_type": "code",
   "execution_count": null,
   "id": "5fd19229",
   "metadata": {},
   "outputs": [],
   "source": [
    "a = 'aaaaa'"
   ]
  },
  {
   "cell_type": "markdown",
   "id": "f7b40eb6",
   "metadata": {},
   "source": [
    "A biblioteca **NumPy** _(Numerical Python)_ proporciona uma forma eficiente de armazenagem e processamento de conjuntos de dados, e é utilizada como base para a construção da biblioteca Pandas, que estudaremos a seguir.\n",
    "\n",
    "O diferencial do Numpy é sua velocidade e eficiência, o que faz com que ela seja amplamente utilizada para computação científica e analise de dados. \n",
    "\n",
    "A velocidade e eficiência é possível graças à estrutura chamada **numpy array**, que é um forma eficiente de guardar e manipular matrizes, que serve como base para as tabelas que iremos utilizar."
   ]
  },
  {
   "cell_type": "code",
   "execution_count": null,
   "id": "9c2e96a9",
   "metadata": {},
   "outputs": [],
   "source": [
    "# A gente importa o numpy sempre chamando ele de \"np\"\n",
    "import numpy as np"
   ]
  },
  {
   "cell_type": "code",
   "execution_count": null,
   "id": "e70ebe21",
   "metadata": {},
   "outputs": [],
   "source": [
    "# Vamos fazer uma comparação com uma lista de Python\n",
    "py_array = [[1,   2,  3]]\n",
    "\n",
    "print(py_array)\n",
    "print(type(py_array))"
   ]
  },
  {
   "cell_type": "code",
   "execution_count": null,
   "id": "e8d181e7",
   "metadata": {},
   "outputs": [],
   "source": [
    "# Uma lista com 2 dimensões é uma lista de listas\n",
    "print(type(py_array[0]))"
   ]
  },
  {
   "cell_type": "code",
   "execution_count": null,
   "id": "7ab9fbe9",
   "metadata": {},
   "outputs": [],
   "source": [
    "# Nota como o tipo da variável muda para \"ndarray\"\n",
    "np_array = np.array(py_array)\n",
    "\n",
    "print(np_array)\n",
    "print(type(np_array))"
   ]
  },
  {
   "cell_type": "code",
   "execution_count": null,
   "id": "5f3a07bf",
   "metadata": {},
   "outputs": [],
   "source": [
    "# Mas no  numpy, um ndarray continua sendo formado de ndarrays.\n",
    "print(type(np_array[0]))"
   ]
  },
  {
   "cell_type": "code",
   "execution_count": null,
   "id": "ad7087b8",
   "metadata": {},
   "outputs": [],
   "source": [
    "# 3 atributos básicos pra um ndarray\n",
    "print(np_array.shape)   # O formato dele\n",
    "print(np_array.ndim)    # Quantas dimensões ele tem\n",
    "print(np_array.dtype)   # O \"dtype\", que é o tipo dos elementos (número, letra, ...) dele"
   ]
  },
  {
   "cell_type": "code",
   "execution_count": null,
   "id": "61e3d7b5",
   "metadata": {},
   "outputs": [],
   "source": [
    "x = np.array([1, 2, 3]) # Um vetor também é um ndarray\n",
    "print(type(x))\n",
    "print(x.dtype)"
   ]
  },
  {
   "cell_type": "code",
   "execution_count": null,
   "id": "984f58cd",
   "metadata": {},
   "outputs": [],
   "source": [
    "# O dtype de um array do numpy pode ser controlado na hora que a gente cria.\n",
    "py_array = [[1,   2,  3]]\n",
    "\n",
    "array_int = np.array(py_array, dtype=np.float64)"
   ]
  },
  {
   "cell_type": "code",
   "execution_count": null,
   "id": "23d3f5a4",
   "metadata": {},
   "outputs": [],
   "source": [
    "print(novo_array)\n",
    "print(novo_array.dtype)"
   ]
  },
  {
   "cell_type": "code",
   "execution_count": null,
   "id": "26597647",
   "metadata": {},
   "outputs": [],
   "source": [
    "# Mas quando a gente não define, ele infere a partir dos nossos dados.\n",
    "py_array_2 = [[1.0,   2,  3.0]]\n",
    "\n",
    "array_float = np.array(py_array_2)\n",
    "\n",
    "print(array_float)\n",
    "print(array_float.dtype)"
   ]
  },
  {
   "cell_type": "code",
   "execution_count": null,
   "id": "25019902",
   "metadata": {},
   "outputs": [],
   "source": [
    "# Para selecionar um elemento de uma tabela no Python e no Numpy, tem uma ligeira diferença.\n",
    "print((array_int[0][0])) # Python: Pega a primeira linha. Dela, pega o primeiro elemento.\n",
    "print((array_float[0,0]))  # Numpy: Pega o elemento da linha 0, coluna 0."
   ]
  },
  {
   "cell_type": "code",
   "execution_count": null,
   "id": "dc2dc3b2",
   "metadata": {},
   "outputs": [],
   "source": [
    "print((array_int[0][1])) # Python: Pega a primeira linha. Dela, pega o segundo elemento.\n",
    "print((array_float[0,1]))  # Numpy: Pega o elemento da linha 0, coluna 1."
   ]
  },
  {
   "cell_type": "markdown",
   "id": "ea6b13b7",
   "metadata": {},
   "source": [
    "**Revisando**"
   ]
  },
  {
   "cell_type": "code",
   "execution_count": null,
   "id": "08c1bea8",
   "metadata": {},
   "outputs": [],
   "source": [
    "# No Python, existe o conceito de \"indexing\", que é pegar elementos pelo seu índice (a sua posição) \n",
    "lista = [1, 2, 3, 4, 5, 6, 7, 8, 9]\n",
    "print(lista[0])\n",
    "print(lista[3])\n",
    "print(lista[-1]) # Aqui a gente também pode indexar negativamente. Aí o Python conta de trás pra frente.\n",
    "print(lista[-3]) # -3 vai ser o terceiro elemento, de trás pra frente\n",
    "\n",
    "# OBS: Lembre-se que as \"posições\" no Python sempre começam a contar do zero!!!"
   ]
  },
  {
   "cell_type": "code",
   "execution_count": null,
   "id": "79573a18",
   "metadata": {},
   "outputs": [],
   "source": [
    "print(lista[0] == lista[-9]) # Nota que o primeiro elemento é o -9, pois é o nono de trás pra frente."
   ]
  },
  {
   "cell_type": "code",
   "execution_count": null,
   "id": "25ad1f32",
   "metadata": {},
   "outputs": [],
   "source": [
    "# Também existe uma forma de pegar um subconjunto da lista.\n",
    "# A gente chama isso de \"slicing\". Nota que o último elemento não entra!\n",
    "print(lista[:])\n",
    "print(lista[:3])\n",
    "print(lista[:-3]) # A gente pode usar nossa indexação negativa aqui."
   ]
  },
  {
   "cell_type": "code",
   "execution_count": null,
   "id": "a1e06838",
   "metadata": {},
   "outputs": [],
   "source": [
    "# Podemos definir um início também pro slicing.\n",
    "# Quando não colocamos nada, ele assume que o início é 0.\n",
    "# No caso do fim, se não colocamos nada, ele assume que o fim é o último elemento.\n",
    "print(lista[2:])\n",
    "print(lista[2:3])\n",
    "print(lista[2:-3]) # A gente pode usar nossa indexação negativa aqui."
   ]
  },
  {
   "cell_type": "code",
   "execution_count": null,
   "id": "8d08c2f9",
   "metadata": {
    "scrolled": true
   },
   "outputs": [],
   "source": [
    "# O poder do slicing é que a gente pode definir diferentes tamanhos de passo.\n",
    "print(lista[0:9:2])\n",
    "print(lista[-1:-5:-2]) # Agora ele anda de trás pra frente!\n",
    "print(lista[1:5:-1]) # Se eu for subtraindo 1, é impossível ir de 1 até 5. Logo, gera uma lista vazia."
   ]
  },
  {
   "cell_type": "markdown",
   "id": "4ed4c99b",
   "metadata": {},
   "source": [
    "Também podemos aplicar o conceito do slicing no numpy"
   ]
  },
  {
   "cell_type": "code",
   "execution_count": null,
   "id": "c6851172",
   "metadata": {},
   "outputs": [],
   "source": [
    "print(array_int)\n",
    "print(array_int[:,2]) # Pegando o terceiro elemento\n",
    "print(array_int[:,-1:-5:-2]) # Invertendo o array"
   ]
  },
  {
   "cell_type": "markdown",
   "id": "e864132c",
   "metadata": {},
   "source": [
    "**Funções numpy**  \n",
    "O numpy também tem diversas funções para facilitar criação de arrays."
   ]
  },
  {
   "cell_type": "code",
   "execution_count": null,
   "id": "cb47ae67",
   "metadata": {},
   "outputs": [],
   "source": [
    "print(np.zeros((1,10)), end='\\n\\n') # O \"end\" muda o que o Python encaixa no fim do que ele mostra pra gente.\n",
    "print(np.ones((1, 5)), end='\\n\\n') # \\n é pular linha, e é o default. \\n\\n pula 2 linhas.\n",
    "# Alguns spoilers\n",
    "print(np.identity(4), end='\\n\\n')\n",
    "print(np.eye(4, 3), end='\\n\\n')"
   ]
  },
  {
   "cell_type": "code",
   "execution_count": null,
   "id": "577f8ac5",
   "metadata": {},
   "outputs": [],
   "source": [
    "# Também podemos fazer listas de números.\n",
    "print(np.arange(10, 30, 2)) # Lista de números inteiros pulando de 2 em 2. Mas até aqui, seria igual a Python.\n",
    "print('')\n",
    "print(np.arange(10.5, 30.5, 2))  # Lista de números de ponto flutuant, pulando de 2 em 2.\n",
    "print('')\n",
    "print(np.linspace(10, 30, 10)) # Lista de 10 números, igualmente espaçados entre 10 e 30."
   ]
  },
  {
   "cell_type": "markdown",
   "id": "f4de84d1",
   "metadata": {},
   "source": [
    "# Operações Básicas"
   ]
  },
  {
   "cell_type": "code",
   "execution_count": null,
   "id": "35472610",
   "metadata": {},
   "outputs": [],
   "source": [
    "# Se a força do numpy é ter tudo operando como vetores, \n",
    "# então ele tem que ter operações de vetores.\n",
    "vec1 = np.arange(0, 10, 1)\n",
    "vec2 = np.arange(0, 20, 2)\n",
    "\n",
    "print(vec1)\n",
    "print(vec2)"
   ]
  },
  {
   "cell_type": "code",
   "execution_count": null,
   "id": "97971086",
   "metadata": {},
   "outputs": [],
   "source": [
    "# Soma por elemento\n",
    "print(vec1 + vec2)\n",
    "\n",
    "# Multiplicação elemento por elemento\n",
    "print(vec1 * vec2)\n",
    "\n",
    "# produto de matrizes (neste caso, produto escalar)\n",
    "# Isso é multiplicar elemento por elemento, e depois somar\n",
    "print(vec1 @ vec2)\n",
    "print((vec1 * vec2).sum()) # Todo ndarray tem um método \"sum\" pra somar seus elementos\n",
    "\n",
    "# produto de matrizes (neste caso, produto escalar)\n",
    "# Outra forma de escrever a mesma coisa\n",
    "print(vec1.dot(vec2))"
   ]
  },
  {
   "cell_type": "markdown",
   "id": "a830d605",
   "metadata": {},
   "source": [
    "## Bora praticar!"
   ]
  },
  {
   "cell_type": "markdown",
   "id": "493edbd4",
   "metadata": {},
   "source": [
    "Fonte: https://github.com/rougier/numpy-100/blob/master/100_Numpy_exercises.ipynb\n"
   ]
  },
  {
   "cell_type": "markdown",
   "id": "decc3719",
   "metadata": {},
   "source": [
    "1) Inverta um vetor (o primeiro elemento vira o último). Para testar crie um vetor a partir da seguinte lista [0, 5, 1, 9, 9, 87]"
   ]
  },
  {
   "cell_type": "code",
   "execution_count": null,
   "id": "334ec634",
   "metadata": {},
   "outputs": [],
   "source": []
  },
  {
   "cell_type": "markdown",
   "id": "22f43f5a",
   "metadata": {},
   "source": [
    "2) Crie um vetor com valores que vão de 1 até 21 de dois em dois, a partir da função arange"
   ]
  },
  {
   "cell_type": "code",
   "execution_count": null,
   "id": "d1435bb6",
   "metadata": {},
   "outputs": [],
   "source": []
  },
  {
   "cell_type": "markdown",
   "id": "a13b9a8f",
   "metadata": {},
   "source": [
    "3) Ache os índices dos elementos não-zero a partir do array [1,2,0,0,4,0]"
   ]
  },
  {
   "cell_type": "code",
   "execution_count": null,
   "id": "54173573",
   "metadata": {},
   "outputs": [],
   "source": []
  },
  {
   "cell_type": "code",
   "execution_count": null,
   "id": "ab55c3a2",
   "metadata": {},
   "outputs": [],
   "source": []
  },
  {
   "cell_type": "code",
   "execution_count": null,
   "id": "bfb69d2d",
   "metadata": {},
   "outputs": [],
   "source": []
  },
  {
   "cell_type": "markdown",
   "id": "a440386d",
   "metadata": {},
   "source": [
    "E se a gente quisesse pegar os elementos diferentes de zero?"
   ]
  },
  {
   "cell_type": "code",
   "execution_count": null,
   "id": "80276ee0",
   "metadata": {},
   "outputs": [],
   "source": []
  },
  {
   "cell_type": "code",
   "execution_count": null,
   "id": "5a90a7af",
   "metadata": {},
   "outputs": [],
   "source": []
  },
  {
   "cell_type": "code",
   "execution_count": null,
   "id": "25777c8b",
   "metadata": {},
   "outputs": [],
   "source": []
  },
  {
   "cell_type": "code",
   "execution_count": null,
   "id": "063d7581",
   "metadata": {},
   "outputs": [],
   "source": []
  },
  {
   "cell_type": "markdown",
   "id": "c8badc9d",
   "metadata": {},
   "source": [
    "4) Crie uma matriz identidade 3x3 (★☆☆)"
   ]
  },
  {
   "cell_type": "code",
   "execution_count": null,
   "id": "bb39a57e",
   "metadata": {},
   "outputs": [],
   "source": []
  },
  {
   "cell_type": "markdown",
   "id": "81c1b69e",
   "metadata": {},
   "source": [
    "5) Crie um array de 10 com valores aleatórios"
   ]
  },
  {
   "cell_type": "code",
   "execution_count": null,
   "id": "412fcfb6",
   "metadata": {},
   "outputs": [],
   "source": []
  },
  {
   "cell_type": "markdown",
   "id": "bf75c0c6",
   "metadata": {},
   "source": [
    "6) Crie um array 100 com valores aleatórios e ache os valores máximo e mínimo"
   ]
  },
  {
   "cell_type": "code",
   "execution_count": null,
   "id": "53880205",
   "metadata": {},
   "outputs": [],
   "source": []
  },
  {
   "cell_type": "code",
   "execution_count": null,
   "id": "2d620670",
   "metadata": {},
   "outputs": [],
   "source": []
  },
  {
   "cell_type": "code",
   "execution_count": null,
   "id": "b487e139",
   "metadata": {},
   "outputs": [],
   "source": []
  },
  {
   "cell_type": "markdown",
   "id": "6d439722",
   "metadata": {},
   "source": [
    "7) Crie um array 2D (bidimensional) com 1 na borda e 0 dentro"
   ]
  },
  {
   "cell_type": "code",
   "execution_count": null,
   "id": "0d0e789a",
   "metadata": {},
   "outputs": [],
   "source": []
  },
  {
   "cell_type": "code",
   "execution_count": null,
   "id": "3ae2b8d5",
   "metadata": {},
   "outputs": [],
   "source": []
  },
  {
   "cell_type": "markdown",
   "id": "67c7ec53",
   "metadata": {},
   "source": [
    "8 - Como adicionar uma borda de 0's ao redor de um array existente?"
   ]
  },
  {
   "cell_type": "markdown",
   "id": "5c9b9ad7",
   "metadata": {},
   "source": [
    "A gente consegue usar uma lógica semelhante à de cima."
   ]
  },
  {
   "cell_type": "code",
   "execution_count": null,
   "id": "72fe0a00",
   "metadata": {},
   "outputs": [],
   "source": []
  },
  {
   "cell_type": "code",
   "execution_count": null,
   "id": "16abdbf4",
   "metadata": {},
   "outputs": [],
   "source": []
  },
  {
   "cell_type": "code",
   "execution_count": null,
   "id": "939f6364",
   "metadata": {},
   "outputs": [],
   "source": []
  },
  {
   "cell_type": "markdown",
   "id": "1da76040",
   "metadata": {},
   "source": [
    "9) Crie uma matriz 5x5 com valores 1, 2, 3, 4 logo abaixo da diagonal"
   ]
  },
  {
   "cell_type": "code",
   "execution_count": null,
   "id": "e438d1ff",
   "metadata": {},
   "outputs": [],
   "source": []
  }
 ],
 "metadata": {
  "kernelspec": {
   "display_name": "Python 3 (ipykernel)",
   "language": "python",
   "name": "python3"
  },
  "language_info": {
   "codemirror_mode": {
    "name": "ipython",
    "version": 3
   },
   "file_extension": ".py",
   "mimetype": "text/x-python",
   "name": "python",
   "nbconvert_exporter": "python",
   "pygments_lexer": "ipython3",
   "version": "3.9.12"
  },
  "vscode": {
   "interpreter": {
    "hash": "7f52069df51f55474cef70a04f6de2c8e83f851022777c4983d9d0bb63ea6184"
   }
  }
 },
 "nbformat": 4,
 "nbformat_minor": 5
}
