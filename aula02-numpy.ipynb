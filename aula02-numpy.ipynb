{
 "cells": [
  {
   "cell_type": "markdown",
   "id": "396e845d",
   "metadata": {},
   "source": [
    "# Numpy\n",
    "\n",
    "Hoje, vamos começara ver a biblioteca matemática mais importante pro ecossistema \n",
    "científico do Python: O Numpy."
   ]
  },
  {
   "cell_type": "markdown",
   "id": "a5994e92",
   "metadata": {},
   "source": [
    "Vamos relembrar alguns conceitos"
   ]
  },
  {
   "cell_type": "code",
   "execution_count": 1,
   "id": "df7119fb",
   "metadata": {},
   "outputs": [],
   "source": [
    "lista = [\"a\", 2, 2.4, True, [1, 3], {\"a\": 1}]"
   ]
  },
  {
   "cell_type": "code",
   "execution_count": 2,
   "id": "a2b0a0b5",
   "metadata": {},
   "outputs": [],
   "source": [
    "lista.append(\"Olá\")"
   ]
  },
  {
   "cell_type": "code",
   "execution_count": 3,
   "id": "6a9d0ef4",
   "metadata": {},
   "outputs": [
    {
     "data": {
      "text/plain": [
       "['a', 2, 2.4, True, [1, 3], {'a': 1}, 'Olá']"
      ]
     },
     "execution_count": 3,
     "metadata": {},
     "output_type": "execute_result"
    }
   ],
   "source": [
    "lista"
   ]
  },
  {
   "cell_type": "code",
   "execution_count": 4,
   "id": "255aec1a",
   "metadata": {},
   "outputs": [],
   "source": [
    "a = 42.5"
   ]
  },
  {
   "cell_type": "code",
   "execution_count": 5,
   "id": "5fd19229",
   "metadata": {},
   "outputs": [],
   "source": [
    "a = 'aaaaa'"
   ]
  },
  {
   "cell_type": "code",
   "execution_count": 6,
   "id": "fc5445f4",
   "metadata": {},
   "outputs": [
    {
     "data": {
      "text/plain": [
       "'aaaaa'"
      ]
     },
     "execution_count": 6,
     "metadata": {},
     "output_type": "execute_result"
    }
   ],
   "source": [
    "a"
   ]
  },
  {
   "cell_type": "markdown",
   "id": "f7b40eb6",
   "metadata": {},
   "source": [
    "A biblioteca **NumPy** _(Numerical Python)_ proporciona uma forma eficiente de armazenagem e processamento de conjuntos de dados, e é utilizada como base para a construção da biblioteca Pandas, que estudaremos a seguir.\n",
    "\n",
    "O diferencial do Numpy é sua velocidade e eficiência, o que faz com que ela seja amplamente utilizada para computação científica e analise de dados. \n",
    "\n",
    "A velocidade e eficiência é possível graças à estrutura chamada **numpy array**, que é um forma eficiente de guardar e manipular matrizes, que serve como base para as tabelas que iremos utilizar."
   ]
  },
  {
   "cell_type": "code",
   "execution_count": 56,
   "id": "9c2e96a9",
   "metadata": {},
   "outputs": [],
   "source": [
    "# A gente importa o numpy sempre chamando ele de \"np\"\n",
    "import numpy as np"
   ]
  },
  {
   "cell_type": "code",
   "execution_count": 8,
   "id": "e70ebe21",
   "metadata": {},
   "outputs": [
    {
     "name": "stdout",
     "output_type": "stream",
     "text": [
      "[[1, 2, 3]]\n",
      "<class 'list'>\n"
     ]
    }
   ],
   "source": [
    "# Vamos fazer uma comparação com uma lista de Python\n",
    "py_array = [[1,   2,  3]]\n",
    "\n",
    "print(py_array)\n",
    "print(type(py_array))"
   ]
  },
  {
   "cell_type": "code",
   "execution_count": 9,
   "id": "e8d181e7",
   "metadata": {},
   "outputs": [
    {
     "name": "stdout",
     "output_type": "stream",
     "text": [
      "<class 'list'>\n"
     ]
    }
   ],
   "source": [
    "# Uma lista com 2 dimensões é uma lista de listas\n",
    "print(type(py_array[0]))"
   ]
  },
  {
   "cell_type": "code",
   "execution_count": 10,
   "id": "7ab9fbe9",
   "metadata": {},
   "outputs": [
    {
     "name": "stdout",
     "output_type": "stream",
     "text": [
      "[[1 2 3]]\n",
      "<class 'numpy.ndarray'>\n"
     ]
    }
   ],
   "source": [
    "# Nota como o tipo da variável muda para \"ndarray\"\n",
    "np_array = np.array(py_array)\n",
    "\n",
    "print(np_array)\n",
    "print(type(np_array))"
   ]
  },
  {
   "cell_type": "code",
   "execution_count": 11,
   "id": "3908c9a0",
   "metadata": {},
   "outputs": [
    {
     "name": "stdout",
     "output_type": "stream",
     "text": [
      "[['a' '2' '3']]\n",
      "<class 'numpy.ndarray'>\n",
      "<U11\n"
     ]
    }
   ],
   "source": [
    "py_array_string = [['a',   2,  3]]\n",
    "np_array_string = np.array(py_array_string)\n",
    "\n",
    "print(np_array_string)\n",
    "print(type(np_array_string))\n",
    "print(np_array_string.dtype) "
   ]
  },
  {
   "cell_type": "code",
   "execution_count": 12,
   "id": "5f3a07bf",
   "metadata": {},
   "outputs": [
    {
     "name": "stdout",
     "output_type": "stream",
     "text": [
      "<class 'numpy.ndarray'>\n"
     ]
    }
   ],
   "source": [
    "# Mas no  numpy, um ndarray continua sendo formado de ndarrays.\n",
    "print(type(np_array[0]))"
   ]
  },
  {
   "cell_type": "code",
   "execution_count": 13,
   "id": "ad7087b8",
   "metadata": {},
   "outputs": [
    {
     "name": "stdout",
     "output_type": "stream",
     "text": [
      "(1, 3)\n",
      "2\n",
      "int32\n"
     ]
    }
   ],
   "source": [
    "# 3 atributos básicos pra um ndarray\n",
    "print(np_array.shape)   # O formato dele\n",
    "print(np_array.ndim)    # Quantas dimensões ele tem\n",
    "print(np_array.dtype)   # O \"dtype\", que é o tipo dos elementos (número, letra, ...) dele"
   ]
  },
  {
   "cell_type": "code",
   "execution_count": 14,
   "id": "61e3d7b5",
   "metadata": {},
   "outputs": [
    {
     "name": "stdout",
     "output_type": "stream",
     "text": [
      "<class 'numpy.ndarray'>\n",
      "int32\n"
     ]
    }
   ],
   "source": [
    "x = np.array([1, 2, 3]) # Um vetor também é um ndarray\n",
    "print(type(x))\n",
    "print(x.dtype)"
   ]
  },
  {
   "cell_type": "code",
   "execution_count": 15,
   "id": "984f58cd",
   "metadata": {},
   "outputs": [],
   "source": [
    "# O dtype de um array do numpy pode ser controlado na hora que a gente cria.\n",
    "py_array = [1,   2,  3]\n",
    "\n",
    "array_int = np.array(py_array, dtype=np.float64)"
   ]
  },
  {
   "cell_type": "code",
   "execution_count": 16,
   "id": "23d3f5a4",
   "metadata": {},
   "outputs": [
    {
     "name": "stdout",
     "output_type": "stream",
     "text": [
      "[1. 2. 3.]\n",
      "float64\n"
     ]
    }
   ],
   "source": [
    "print(array_int)\n",
    "print(array_int.dtype)"
   ]
  },
  {
   "cell_type": "code",
   "execution_count": 17,
   "id": "26597647",
   "metadata": {},
   "outputs": [
    {
     "name": "stdout",
     "output_type": "stream",
     "text": [
      "[1. 2. 3.]\n",
      "float64\n"
     ]
    }
   ],
   "source": [
    "# Mas quando a gente não define, ele infere a partir dos nossos dados.\n",
    "py_array_2 = [1.0,   2,  3.0]\n",
    "\n",
    "array_float = np.array(py_array_2)\n",
    "\n",
    "print(array_float)\n",
    "print(array_float.dtype)"
   ]
  },
  {
   "cell_type": "code",
   "execution_count": 18,
   "id": "25019902",
   "metadata": {},
   "outputs": [
    {
     "name": "stdout",
     "output_type": "stream",
     "text": [
      "3.0\n"
     ]
    }
   ],
   "source": [
    "# Para selecionar um elemento de uma tabela no Python e no Numpy, tem uma ligeira diferença.\n",
    "print((array_float[2])) # Python: Pega a primeira linha. Dela, pega o primeiro elemento."
   ]
  },
  {
   "cell_type": "markdown",
   "id": "ea6b13b7",
   "metadata": {},
   "source": [
    "**Revisando**"
   ]
  },
  {
   "cell_type": "code",
   "execution_count": 19,
   "id": "08c1bea8",
   "metadata": {},
   "outputs": [
    {
     "name": "stdout",
     "output_type": "stream",
     "text": [
      "1\n",
      "4\n",
      "9\n",
      "7\n"
     ]
    }
   ],
   "source": [
    "# No Python, existe o conceito de \"indexing\", que é pegar elementos pelo seu índice (a sua posição) \n",
    "lista = [1, 2, 3, 4, 5, 6, 7, 8, 9]\n",
    "print(lista[0])\n",
    "print(lista[3])\n",
    "print(lista[-1]) # Aqui a gente também pode indexar negativamente. Aí o Python conta de trás pra frente.\n",
    "print(lista[-3]) # -3 vai ser o terceiro elemento, de trás pra frente\n",
    "\n",
    "# OBS: Lembre-se que as \"posições\" no Python sempre começam a contar do zero!!!"
   ]
  },
  {
   "cell_type": "code",
   "execution_count": 20,
   "id": "79573a18",
   "metadata": {},
   "outputs": [
    {
     "name": "stdout",
     "output_type": "stream",
     "text": [
      "True\n"
     ]
    }
   ],
   "source": [
    "print(lista[0] == lista[-9]) # Nota que o primeiro elemento é o -9, pois é o nono de trás pra frente."
   ]
  },
  {
   "cell_type": "code",
   "execution_count": 21,
   "id": "25ad1f32",
   "metadata": {},
   "outputs": [
    {
     "name": "stdout",
     "output_type": "stream",
     "text": [
      "[1, 2, 3, 4, 5, 6, 7, 8, 9]\n",
      "[3]\n",
      "[1, 2, 3, 4, 5, 6]\n"
     ]
    }
   ],
   "source": [
    "# Também existe uma forma de pegar um subconjunto da lista.\n",
    "# A gente chama isso de \"slicing\". Nota que o último elemento não entra!\n",
    "print(lista[:])\n",
    "print(lista[2:3])\n",
    "print(lista[:-3]) # A gente pode usar nossa indexação negativa aqui."
   ]
  },
  {
   "cell_type": "code",
   "execution_count": 22,
   "id": "a1e06838",
   "metadata": {},
   "outputs": [
    {
     "name": "stdout",
     "output_type": "stream",
     "text": [
      "[3, 4, 5, 6, 7, 8, 9]\n",
      "[3]\n",
      "[3, 4, 5, 6]\n"
     ]
    }
   ],
   "source": [
    "# Podemos definir um início também pro slicing.\n",
    "# Quando não colocamos nada, ele assume que o início é 0.\n",
    "# No caso do fim, se não colocamos nada, ele assume que o fim é o último elemento.\n",
    "print(lista[2:])\n",
    "print(lista[2:3])\n",
    "print(lista[2:-3]) # A gente pode usar nossa indexação negativa aqui."
   ]
  },
  {
   "cell_type": "code",
   "execution_count": 23,
   "id": "8d08c2f9",
   "metadata": {
    "scrolled": true
   },
   "outputs": [
    {
     "name": "stdout",
     "output_type": "stream",
     "text": [
      "[1, 3, 5, 7, 9]\n",
      "[9, 8, 7, 6, 5, 4, 3, 2, 1]\n",
      "[]\n"
     ]
    }
   ],
   "source": [
    "# O poder do slicing é que a gente pode definir diferentes tamanhos de passo.\n",
    "print(lista[0:9:2])\n",
    "print(lista[::-1]) # Agora ele anda de trás pra frente!\n",
    "print(lista[1:5:-1]) # Se eu for subtraindo 1, é impossível ir de 1 até 5. Logo, gera uma lista vazia."
   ]
  },
  {
   "cell_type": "markdown",
   "id": "4ed4c99b",
   "metadata": {},
   "source": [
    "Também podemos aplicar o conceito do slicing no numpy"
   ]
  },
  {
   "cell_type": "code",
   "execution_count": 24,
   "id": "c6851172",
   "metadata": {},
   "outputs": [
    {
     "name": "stdout",
     "output_type": "stream",
     "text": [
      "[1. 2. 3.]\n",
      "3.0\n",
      "[1.]\n",
      "[3. 1.]\n"
     ]
    }
   ],
   "source": [
    "print(array_int)\n",
    "print(array_int[2]) # Pegando o terceiro elemento\n",
    "print(array_int[:1])\n",
    "print(array_int[-1:-5:-2]) # Invertendo o array"
   ]
  },
  {
   "cell_type": "markdown",
   "id": "e864132c",
   "metadata": {},
   "source": [
    "**Funções numpy**  \n",
    "O numpy também tem diversas funções para facilitar criação de arrays."
   ]
  },
  {
   "cell_type": "code",
   "execution_count": 25,
   "id": "cb47ae67",
   "metadata": {},
   "outputs": [
    {
     "name": "stdout",
     "output_type": "stream",
     "text": [
      "[0. 0. 0. 0. 0. 0. 0. 0. 0. 0.]\n",
      "\n",
      "[1. 1. 1. 1. 1.]\n",
      "\n",
      "[[1. 0. 0. 0.]\n",
      " [0. 1. 0. 0.]\n",
      " [0. 0. 1. 0.]\n",
      " [0. 0. 0. 1.]]\n",
      "\n",
      "[[1. 0. 0.]\n",
      " [0. 1. 0.]\n",
      " [0. 0. 1.]\n",
      " [0. 0. 0.]]\n",
      "\n"
     ]
    }
   ],
   "source": [
    "print(np.zeros(10), end='\\n\\n') # O \"end\" muda o que o Python encaixa no fim do que ele mostra pra gente.\n",
    "print(np.ones(5), end='\\n\\n') # \\n é pular linha, e é o default. \\n\\n pula 2 linhas.\n",
    "# Alguns spoilers\n",
    "print(np.identity(4), end='\\n\\n')\n",
    "print(np.eye(4, 3), end='\\n\\n')"
   ]
  },
  {
   "cell_type": "code",
   "execution_count": 26,
   "id": "55a44241",
   "metadata": {},
   "outputs": [
    {
     "data": {
      "text/plain": [
       "[2, 4, 6, 8]"
      ]
     },
     "execution_count": 26,
     "metadata": {},
     "output_type": "execute_result"
    }
   ],
   "source": [
    "# Relembrando a função range\n",
    "list(range(2, 10, 2))"
   ]
  },
  {
   "cell_type": "code",
   "execution_count": 27,
   "id": "577f8ac5",
   "metadata": {},
   "outputs": [
    {
     "name": "stdout",
     "output_type": "stream",
     "text": [
      "[10 12 14 16 18 20 22 24 26 28]\n",
      "\n",
      "[10.5 12.5 14.5 16.5 18.5 20.5 22.5 24.5 26.5 28.5]\n",
      "\n",
      "[10.         12.22222222 14.44444444 16.66666667 18.88888889 21.11111111\n",
      " 23.33333333 25.55555556 27.77777778 30.        ]\n"
     ]
    }
   ],
   "source": [
    "# Também podemos fazer listas de números.\n",
    "print(np.arange(10, 30, 2)) # Lista de números inteiros pulando de 2 em 2. Mas até aqui, seria igual a Python.\n",
    "print('')\n",
    "print(np.arange(10.5, 30.5, 2))  # Lista de números de ponto flutuant, pulando de 2 em 2.\n",
    "print('')\n",
    "print(np.linspace(10, 30, 10)) # Lista de 10 números, igualmente espaçados entre 10 e 30."
   ]
  },
  {
   "cell_type": "markdown",
   "id": "f4de84d1",
   "metadata": {},
   "source": [
    "# Operações Básicas"
   ]
  },
  {
   "cell_type": "code",
   "execution_count": 28,
   "id": "35472610",
   "metadata": {},
   "outputs": [
    {
     "name": "stdout",
     "output_type": "stream",
     "text": [
      "[0 1 2 3 4 5 6 7 8 9]\n",
      "[ 0  2  4  6  8 10 12 14 16 18]\n"
     ]
    }
   ],
   "source": [
    "# Se a força do numpy é ter tudo operando como vetores, \n",
    "# então ele tem que ter operações de vetores.\n",
    "vec1 = np.arange(0, 10, 1)\n",
    "vec2 = np.arange(0, 20, 2)\n",
    "\n",
    "print(vec1)\n",
    "print(vec2)"
   ]
  },
  {
   "cell_type": "code",
   "execution_count": 29,
   "id": "bf86da54",
   "metadata": {},
   "outputs": [
    {
     "name": "stdout",
     "output_type": "stream",
     "text": [
      "[ 0  3  6  9 12 15 18 21 24 27]\n"
     ]
    }
   ],
   "source": [
    "# Soma por elemento\n",
    "print(vec1 + vec2)"
   ]
  },
  {
   "cell_type": "code",
   "execution_count": 30,
   "id": "cf606dab",
   "metadata": {},
   "outputs": [
    {
     "name": "stdout",
     "output_type": "stream",
     "text": [
      "[  0   2   8  18  32  50  72  98 128 162]\n"
     ]
    }
   ],
   "source": [
    "# Multiplicação elemento por elemento\n",
    "print(vec1 * vec2)"
   ]
  },
  {
   "cell_type": "code",
   "execution_count": 31,
   "id": "97971086",
   "metadata": {},
   "outputs": [
    {
     "name": "stdout",
     "output_type": "stream",
     "text": [
      "570\n",
      "570\n",
      "570\n"
     ]
    }
   ],
   "source": [
    "# produto de matrizes (neste caso, produto escalar)\n",
    "# Isso é multiplicar elemento por elemento, e depois somar\n",
    "print(vec1 @ vec2)\n",
    "print((vec1 * vec2).sum()) # Todo ndarray tem um método \"sum\" pra somar seus elementos\n",
    "\n",
    "# produto de matrizes (neste caso, produto escalar)\n",
    "# Outra forma de escrever a mesma coisa\n",
    "print(vec1.dot(vec2))"
   ]
  },
  {
   "cell_type": "markdown",
   "id": "a830d605",
   "metadata": {},
   "source": [
    "## Bora praticar!"
   ]
  },
  {
   "cell_type": "markdown",
   "id": "493edbd4",
   "metadata": {},
   "source": [
    "Fonte: https://github.com/rougier/numpy-100/blob/master/100_Numpy_exercises.ipynb\n"
   ]
  },
  {
   "cell_type": "markdown",
   "id": "decc3719",
   "metadata": {},
   "source": [
    "1) Inverta um vetor (o primeiro elemento vira o último). Para testar crie um vetor a partir da seguinte lista [0, 5, 1, 9, 9, 87]"
   ]
  },
  {
   "cell_type": "code",
   "execution_count": 32,
   "id": "334ec634",
   "metadata": {},
   "outputs": [
    {
     "name": "stdout",
     "output_type": "stream",
     "text": [
      "[87  9  9  1  5  0]\n"
     ]
    }
   ],
   "source": [
    "lista = [0, 5, 1, 9, 9, 87]\n",
    "vetor = np.array(lista)\n",
    "print(vetor[::-1])"
   ]
  },
  {
   "cell_type": "markdown",
   "id": "22f43f5a",
   "metadata": {},
   "source": [
    "2) Crie um vetor com valores que vão de 1 até 21 de dois em dois, a partir da função arange"
   ]
  },
  {
   "cell_type": "code",
   "execution_count": 33,
   "id": "d1435bb6",
   "metadata": {},
   "outputs": [
    {
     "name": "stdout",
     "output_type": "stream",
     "text": [
      "[ 1  3  5  7  9 11 13 15 17 19 21]\n"
     ]
    }
   ],
   "source": [
    "print(np.arange(1, 22, 2))"
   ]
  },
  {
   "cell_type": "code",
   "execution_count": 34,
   "id": "a79dc821",
   "metadata": {},
   "outputs": [
    {
     "name": "stdout",
     "output_type": "stream",
     "text": [
      "[ 1  3  5  7  9 11 13 15 17 19]\n"
     ]
    }
   ],
   "source": [
    "array_num = np.arange(1, 21, 2)\n",
    "print(array_num)"
   ]
  },
  {
   "cell_type": "markdown",
   "id": "a13b9a8f",
   "metadata": {},
   "source": [
    "3) Ache os índices dos elementos não-zero a partir do array [1,2,0,0,4,0]"
   ]
  },
  {
   "cell_type": "code",
   "execution_count": 35,
   "id": "54173573",
   "metadata": {},
   "outputs": [
    {
     "data": {
      "text/plain": [
       "[0, 1, 4]"
      ]
     },
     "execution_count": 35,
     "metadata": {},
     "output_type": "execute_result"
    }
   ],
   "source": [
    "lista2 = [1,2,0,0,4,0]\n",
    "lista_indices_nao_zero = [idx for idx in range(len(lista2)) if lista2[idx] != 0]\n",
    "lista_indices_nao_zero"
   ]
  },
  {
   "cell_type": "code",
   "execution_count": 36,
   "id": "ab55c3a2",
   "metadata": {},
   "outputs": [
    {
     "name": "stdout",
     "output_type": "stream",
     "text": [
      "0\n",
      "1\n",
      "4\n"
     ]
    }
   ],
   "source": [
    "vetor = np.array ([1, 2, 0, 0, 4, 0])\n",
    "idx = 0\n",
    "\n",
    "for elemento in vetor:\n",
    "    if elemento != 0:\n",
    "        print (idx)\n",
    "    idx +=1"
   ]
  },
  {
   "cell_type": "code",
   "execution_count": 37,
   "id": "bfb69d2d",
   "metadata": {},
   "outputs": [
    {
     "data": {
      "text/plain": [
       "(array([0, 1, 4], dtype=int64),)"
      ]
     },
     "execution_count": 37,
     "metadata": {},
     "output_type": "execute_result"
    }
   ],
   "source": [
    "vec1 = np.array([1,2,0,0,4,0])\n",
    "np.where(vec1 != 0)"
   ]
  },
  {
   "cell_type": "code",
   "execution_count": 38,
   "id": "8f01ff26",
   "metadata": {},
   "outputs": [
    {
     "name": "stdout",
     "output_type": "stream",
     "text": [
      "o número 1 está no indice=>0\n",
      "o número 2 está no indice=>1\n",
      "o número 4 está no indice=>4\n"
     ]
    }
   ],
   "source": [
    "lista_numeros = [1,2,0,0,4,0]\n",
    "array_numeros = np.array(lista_numeros)\n",
    "for idx,x in enumerate(array_numeros) :\n",
    "    if x != 0:\n",
    "        print(f'o número {x} está no indice=>{idx}')"
   ]
  },
  {
   "cell_type": "code",
   "execution_count": 39,
   "id": "c30e10fc",
   "metadata": {},
   "outputs": [
    {
     "data": {
      "text/plain": [
       "(array([0, 1, 4], dtype=int64),)"
      ]
     },
     "execution_count": 39,
     "metadata": {},
     "output_type": "execute_result"
    }
   ],
   "source": [
    "np.nonzero(array_numeros)"
   ]
  },
  {
   "cell_type": "code",
   "execution_count": 40,
   "id": "159f201d",
   "metadata": {},
   "outputs": [
    {
     "data": {
      "text/plain": [
       "array([[0],\n",
       "       [1],\n",
       "       [4],\n",
       "       [6]], dtype=int64)"
      ]
     },
     "execution_count": 40,
     "metadata": {},
     "output_type": "execute_result"
    }
   ],
   "source": [
    "vec1 = np.array([1,2,0,0,4,0,4])\n",
    "np.argwhere(vec1)"
   ]
  },
  {
   "cell_type": "markdown",
   "id": "a440386d",
   "metadata": {},
   "source": [
    "E se a gente quisesse pegar os elementos diferentes de zero?"
   ]
  },
  {
   "cell_type": "code",
   "execution_count": 41,
   "id": "80276ee0",
   "metadata": {},
   "outputs": [
    {
     "data": {
      "text/plain": [
       "[1, 2, 4]"
      ]
     },
     "execution_count": 41,
     "metadata": {},
     "output_type": "execute_result"
    }
   ],
   "source": [
    "lista_num = [1,2,0,0,4,0]\n",
    "array_num = np.array(lista_num)\n",
    "array_nozero_element = [array_num[x] for x in range(len(array_num)) if array_num[x] != 0]\n",
    "array_nozero_element"
   ]
  },
  {
   "cell_type": "code",
   "execution_count": 42,
   "id": "5a90a7af",
   "metadata": {},
   "outputs": [
    {
     "data": {
      "text/plain": [
       "array([1, 2, 4])"
      ]
     },
     "execution_count": 42,
     "metadata": {},
     "output_type": "execute_result"
    }
   ],
   "source": [
    "a = np.array([1,2,0,0,4,0])\n",
    "a_nonzero = np.array([i for i in a if i != 0])\n",
    "a_nonzero"
   ]
  },
  {
   "cell_type": "code",
   "execution_count": 43,
   "id": "25777c8b",
   "metadata": {},
   "outputs": [
    {
     "data": {
      "text/plain": [
       "array([1, 2, 4])"
      ]
     },
     "execution_count": 43,
     "metadata": {},
     "output_type": "execute_result"
    }
   ],
   "source": [
    "array_num[array_num != 0]"
   ]
  },
  {
   "cell_type": "code",
   "execution_count": 44,
   "id": "3c61a2bb",
   "metadata": {},
   "outputs": [
    {
     "data": {
      "text/plain": [
       "2"
      ]
     },
     "execution_count": 44,
     "metadata": {},
     "output_type": "execute_result"
    }
   ],
   "source": [
    "#Teste com listas\n",
    "lista_num = [0,2,0,0,0,0]\n",
    "\n",
    "lista_num[lista_num != 0]"
   ]
  },
  {
   "cell_type": "markdown",
   "id": "c8badc9d",
   "metadata": {},
   "source": [
    "4) Crie uma matriz identidade 3x3"
   ]
  },
  {
   "cell_type": "code",
   "execution_count": 45,
   "id": "bb39a57e",
   "metadata": {},
   "outputs": [
    {
     "data": {
      "text/plain": [
       "array([[1., 0., 0.],\n",
       "       [0., 1., 0.],\n",
       "       [0., 0., 1.]])"
      ]
     },
     "execution_count": 45,
     "metadata": {},
     "output_type": "execute_result"
    }
   ],
   "source": [
    "np.identity(3)"
   ]
  },
  {
   "cell_type": "markdown",
   "id": "81c1b69e",
   "metadata": {},
   "source": [
    "5) Crie um array de 10 com valores aleatórios"
   ]
  },
  {
   "cell_type": "code",
   "execution_count": 46,
   "id": "412fcfb6",
   "metadata": {},
   "outputs": [
    {
     "data": {
      "text/plain": [
       "array([0.02633752, 0.14408334, 0.43526386, 0.10033472, 0.66922589,\n",
       "       0.43080696, 0.84665005, 0.34141018, 0.66295825, 0.57137816])"
      ]
     },
     "execution_count": 46,
     "metadata": {},
     "output_type": "execute_result"
    }
   ],
   "source": [
    "np.random.rand(10)"
   ]
  },
  {
   "cell_type": "code",
   "execution_count": 47,
   "id": "2d422715",
   "metadata": {},
   "outputs": [
    {
     "data": {
      "text/plain": [
       "array([7, 2, 1, 1, 9, 5, 4, 1, 5, 6])"
      ]
     },
     "execution_count": 47,
     "metadata": {},
     "output_type": "execute_result"
    }
   ],
   "source": [
    "from random import randrange as rand\n",
    "lista_num = [rand(1, 10) for x in range(10)]\n",
    "array_num = np.array(lista_num)\n",
    "array_num"
   ]
  },
  {
   "cell_type": "code",
   "execution_count": 48,
   "id": "ff08d202",
   "metadata": {},
   "outputs": [
    {
     "name": "stdout",
     "output_type": "stream",
     "text": [
      "[1 5 7 7 5 9 7 7 3 1]\n"
     ]
    }
   ],
   "source": [
    "array = np.random.randint(10, size=(10)) \n",
    "print(array)"
   ]
  },
  {
   "cell_type": "markdown",
   "id": "bf75c0c6",
   "metadata": {},
   "source": [
    "6) Crie um array 100 com valores aleatórios e ache os valores máximo e mínimo"
   ]
  },
  {
   "cell_type": "code",
   "execution_count": 49,
   "id": "53880205",
   "metadata": {},
   "outputs": [
    {
     "name": "stdout",
     "output_type": "stream",
     "text": [
      "[57 99 18 55 56 40 46 15 61 94  1 67 67 41  7 47 65 68 90 80 71 14  2 70\n",
      " 72 15 67 82 24 96 51 19  4 14 93 79 18 89 78  8  8 59 20 85 88 95 65 65\n",
      " 25 88 80 15 32 72 76 16 34 90 53 43 51 65  4 37 65 10 93 40 38 38 74 33\n",
      " 62 62 85 98 15 21 35 38 92  0 11 71 68 15 62 73 68 58 99 12 17 38 87 83\n",
      " 18 61 34  0]\n",
      "99\n",
      "0\n"
     ]
    }
   ],
   "source": [
    "array_num = np.random.randint(100, size=(100))\n",
    "print(array_num)\n",
    "print(np.max(array_num))\n",
    "print(np.min(array_num))"
   ]
  },
  {
   "cell_type": "markdown",
   "id": "6d439722",
   "metadata": {},
   "source": [
    "7) Crie um array 2D (bidimensional) com 1 na borda e 0 dentro"
   ]
  },
  {
   "cell_type": "code",
   "execution_count": 50,
   "id": "0d0e789a",
   "metadata": {},
   "outputs": [
    {
     "name": "stdout",
     "output_type": "stream",
     "text": [
      "[[1. 1. 1. 1. 1. 1. 1. 1. 1. 1.]\n",
      " [1. 0. 0. 0. 0. 0. 0. 0. 0. 1.]\n",
      " [1. 0. 0. 0. 0. 0. 0. 0. 0. 1.]\n",
      " [1. 0. 0. 0. 0. 0. 0. 0. 0. 1.]\n",
      " [1. 0. 0. 0. 0. 0. 0. 0. 0. 1.]\n",
      " [1. 0. 0. 0. 0. 0. 0. 0. 0. 1.]\n",
      " [1. 0. 0. 0. 0. 0. 0. 0. 0. 1.]\n",
      " [1. 0. 0. 0. 0. 0. 0. 0. 0. 1.]\n",
      " [1. 0. 0. 0. 0. 0. 0. 0. 0. 1.]\n",
      " [1. 1. 1. 1. 1. 1. 1. 1. 1. 1.]]\n"
     ]
    }
   ],
   "source": [
    "a = np.ones((10,10))\n",
    "b = np.zeros((8,8))\n",
    "a[1:9,1:9] = b\n",
    "print(a)"
   ]
  },
  {
   "cell_type": "code",
   "execution_count": 51,
   "id": "0628da4b",
   "metadata": {},
   "outputs": [
    {
     "data": {
      "text/plain": [
       "array([[1., 1., 1., 1., 1., 1.],\n",
       "       [1., 0., 0., 0., 0., 1.],\n",
       "       [1., 0., 0., 0., 0., 1.],\n",
       "       [1., 0., 0., 0., 0., 1.],\n",
       "       [1., 0., 0., 0., 0., 1.],\n",
       "       [1., 1., 1., 1., 1., 1.]])"
      ]
     },
     "execution_count": 51,
     "metadata": {},
     "output_type": "execute_result"
    }
   ],
   "source": [
    "ndim = 6\n",
    "np_array = np.zeros((ndim, ndim))\n",
    "\n",
    "for i in range(ndim):\n",
    "    for j in range(ndim):\n",
    "        if i == 0 or j == 0 or i == (ndim - 1) or j == (ndim - 1):\n",
    "            np_array[i][j] = 1\n",
    "\n",
    "np_array"
   ]
  },
  {
   "cell_type": "code",
   "execution_count": 52,
   "id": "3ae2b8d5",
   "metadata": {},
   "outputs": [
    {
     "data": {
      "text/plain": [
       "array([[1., 1., 1., 1.],\n",
       "       [1., 0., 0., 1.],\n",
       "       [1., 0., 0., 1.],\n",
       "       [1., 1., 1., 1.]])"
      ]
     },
     "execution_count": 52,
     "metadata": {},
     "output_type": "execute_result"
    }
   ],
   "source": [
    "array = np.zeros((2, 2))\n",
    "array = np.pad(array, 1, constant_values=1)\n",
    "array"
   ]
  },
  {
   "cell_type": "code",
   "execution_count": 57,
   "id": "ca82a777",
   "metadata": {},
   "outputs": [
    {
     "data": {
      "text/plain": [
       "array([[1., 1., 1., 1., 1., 1., 1., 1.],\n",
       "       [1., 0., 0., 0., 0., 0., 0., 1.],\n",
       "       [1., 0., 0., 0., 0., 0., 0., 1.],\n",
       "       [1., 0., 0., 0., 0., 0., 0., 1.],\n",
       "       [1., 0., 0., 0., 0., 0., 0., 1.],\n",
       "       [1., 0., 0., 0., 0., 0., 0., 1.],\n",
       "       [1., 0., 0., 0., 0., 0., 0., 1.],\n",
       "       [1., 0., 0., 0., 0., 0., 0., 1.],\n",
       "       [1., 1., 1., 1., 1., 1., 1., 1.]])"
      ]
     },
     "execution_count": 57,
     "metadata": {},
     "output_type": "execute_result"
    }
   ],
   "source": [
    "# Agora com uma função passando os parâmetros de #linhas e #colunas\n",
    "def frame_array(n_row,n_column):\n",
    "    a = np.ones((n_row,n_column))\n",
    "    b = np.zeros((n_row-2,n_column-2))\n",
    "    a[1:n_row-1,1:n_column-1] = b\n",
    "    return a\n",
    "frame_array(9,8)"
   ]
  },
  {
   "cell_type": "markdown",
   "id": "67c7ec53",
   "metadata": {},
   "source": [
    "8 - Como adicionar uma borda de 0's ao redor de um array existente?"
   ]
  },
  {
   "cell_type": "markdown",
   "id": "5c9b9ad7",
   "metadata": {},
   "source": [
    "A gente consegue usar uma lógica semelhante à de cima."
   ]
  },
  {
   "cell_type": "code",
   "execution_count": 53,
   "id": "72fe0a00",
   "metadata": {},
   "outputs": [
    {
     "data": {
      "text/plain": [
       "array([[0., 0., 0., 0., 0., 0., 0., 0., 0., 0., 0., 0.],\n",
       "       [0., 3., 6., 6., 5., 3., 8., 7., 1., 0., 8., 0.],\n",
       "       [0., 3., 0., 0., 1., 8., 0., 4., 3., 9., 3., 0.],\n",
       "       [0., 8., 5., 8., 9., 8., 3., 8., 5., 1., 6., 0.],\n",
       "       [0., 1., 4., 8., 4., 5., 3., 5., 3., 9., 8., 0.],\n",
       "       [0., 4., 8., 3., 0., 8., 2., 8., 3., 8., 2., 0.],\n",
       "       [0., 2., 5., 2., 8., 6., 5., 1., 7., 4., 6., 0.],\n",
       "       [0., 6., 6., 9., 6., 1., 8., 2., 8., 5., 6., 0.],\n",
       "       [0., 8., 1., 0., 7., 0., 3., 4., 5., 4., 1., 0.],\n",
       "       [0., 9., 7., 0., 9., 1., 7., 5., 5., 2., 9., 0.],\n",
       "       [0., 8., 0., 2., 1., 8., 8., 9., 5., 0., 7., 0.],\n",
       "       [0., 0., 0., 0., 0., 0., 0., 0., 0., 0., 0., 0.]])"
      ]
     },
     "execution_count": 53,
     "metadata": {},
     "output_type": "execute_result"
    }
   ],
   "source": [
    "a = np.random.randint(10, size=(10, 10))\n",
    "b = np.zeros((12,12))\n",
    "b[1:11,1:11] += a\n",
    "b"
   ]
  },
  {
   "cell_type": "code",
   "execution_count": 54,
   "id": "16abdbf4",
   "metadata": {},
   "outputs": [
    {
     "data": {
      "text/plain": [
       "array([[0., 0., 0., 0., 0., 0., 0., 0.],\n",
       "       [0., 1., 1., 1., 1., 1., 1., 0.],\n",
       "       [0., 1., 1., 1., 1., 1., 1., 0.],\n",
       "       [0., 1., 1., 1., 1., 1., 1., 0.],\n",
       "       [0., 1., 1., 1., 1., 1., 1., 0.],\n",
       "       [0., 1., 1., 1., 1., 1., 1., 0.],\n",
       "       [0., 1., 1., 1., 1., 1., 1., 0.],\n",
       "       [0., 0., 0., 0., 0., 0., 0., 0.]])"
      ]
     },
     "execution_count": 54,
     "metadata": {},
     "output_type": "execute_result"
    }
   ],
   "source": [
    "array = np.ones((6, 6))\n",
    "\n",
    "array = np.pad(array, 1, constant_values=0)\n",
    "array"
   ]
  },
  {
   "cell_type": "markdown",
   "id": "1da76040",
   "metadata": {},
   "source": [
    "9) Crie uma matriz 5x5 com valores 1, 2, 3, 4 logo abaixo da diagonal"
   ]
  },
  {
   "cell_type": "code",
   "execution_count": 58,
   "id": "7738a76e",
   "metadata": {},
   "outputs": [
    {
     "data": {
      "text/plain": [
       "array([[0, 0, 0, 0, 0],\n",
       "       [1, 0, 0, 0, 0],\n",
       "       [1, 2, 0, 0, 0],\n",
       "       [1, 2, 3, 0, 0],\n",
       "       [1, 2, 3, 4, 0]])"
      ]
     },
     "execution_count": 58,
     "metadata": {},
     "output_type": "execute_result"
    }
   ],
   "source": [
    "array = np.array([1,2,3,4,5])\n",
    "matrix_array = np.tril(array, -1)\n",
    "matrix_array"
   ]
  },
  {
   "cell_type": "code",
   "execution_count": 62,
   "id": "290d450f",
   "metadata": {},
   "outputs": [
    {
     "data": {
      "text/plain": [
       "array([[0, 0, 0, 0, 0],\n",
       "       [1, 0, 0, 0, 0],\n",
       "       [0, 2, 0, 0, 0],\n",
       "       [0, 0, 3, 0, 0],\n",
       "       [0, 0, 0, 4, 0]])"
      ]
     },
     "execution_count": 62,
     "metadata": {},
     "output_type": "execute_result"
    }
   ],
   "source": [
    "b = np.array([1,2,3,4])\n",
    "np.diag(b, -1)"
   ]
  },
  {
   "cell_type": "code",
   "execution_count": 55,
   "id": "88b8dc77",
   "metadata": {},
   "outputs": [
    {
     "data": {
      "text/plain": [
       "[[0, 0, 0, 0, 0],\n",
       " [1, 0, 0, 0, 0],\n",
       " [0, 2, 0, 0, 0],\n",
       " [0, 0, 3, 0, 0],\n",
       " [0, 0, 0, 4, 0]]"
      ]
     },
     "execution_count": 55,
     "metadata": {},
     "output_type": "execute_result"
    }
   ],
   "source": [
    "# Exemplo\n",
    "[[0, 0, 0, 0, 0],\n",
    "[1, 0, 0, 0, 0],\n",
    "[0, 2, 0, 0, 0],\n",
    "[0, 0, 3, 0, 0],\n",
    "[0, 0, 0, 4, 0]]"
   ]
  }
 ],
 "metadata": {
  "kernelspec": {
   "display_name": "Python 3 (ipykernel)",
   "language": "python",
   "name": "python3"
  },
  "language_info": {
   "codemirror_mode": {
    "name": "ipython",
    "version": 3
   },
   "file_extension": ".py",
   "mimetype": "text/x-python",
   "name": "python",
   "nbconvert_exporter": "python",
   "pygments_lexer": "ipython3",
   "version": "3.9.12"
  },
  "vscode": {
   "interpreter": {
    "hash": "7f52069df51f55474cef70a04f6de2c8e83f851022777c4983d9d0bb63ea6184"
   }
  }
 },
 "nbformat": 4,
 "nbformat_minor": 5
}
