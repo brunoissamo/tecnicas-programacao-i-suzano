{
 "cells": [
  {
   "cell_type": "markdown",
   "id": "4f51956c",
   "metadata": {},
   "source": [
    "# Pandas"
   ]
  },
  {
   "cell_type": "code",
   "execution_count": null,
   "id": "bfd7aac6",
   "metadata": {},
   "outputs": [],
   "source": [
    "import pandas as pd\n",
    "import numpy as np"
   ]
  },
  {
   "cell_type": "markdown",
   "id": "45b10c4f",
   "metadata": {},
   "source": [
    "## Series\n",
    "\n",
    "O objeto fundamental do Pandas são as **Series**, uma classe do pandas.\n",
    "\n",
    "As Series são as **colunas das tabelas** (que veremos mais a frente), e por baixo dos panos, os dados ficam armazenados como **numpy arrays**!\n",
    "\n",
    "A diferença é que a série possui um **índice associado**, permitindo o acesso aos conteúdos dessa estrutura por ele, como um dicionário.\n",
    "\n",
    "Além disso, as séries têm métodos específicos além dos que vimos pra arrays, o que será super útil!\n",
    "\n",
    "Podemos criar uma série **a partir de uma lista**, usando a função do pandas `pd.Series()`: "
   ]
  },
  {
   "cell_type": "code",
   "execution_count": null,
   "id": "3d892b18",
   "metadata": {},
   "outputs": [],
   "source": [
    "lista = [4, 6, 3, 7, 25]\n",
    "pd.Series(lista)"
   ]
  },
  {
   "cell_type": "markdown",
   "id": "0767ff75",
   "metadata": {},
   "source": [
    "Outra forma bem natural de construir séries é apartir de um **dicionário**\n",
    "\n",
    "Neste caso, as **chaves** se tornam as labels de índice!"
   ]
  },
  {
   "cell_type": "code",
   "execution_count": null,
   "id": "4b632dda",
   "metadata": {},
   "outputs": [],
   "source": [
    "dic = {\"a\": 50, \"b\" : 42}\n",
    "pd.Series(dic)"
   ]
  },
  {
   "cell_type": "markdown",
   "id": "ae492f25",
   "metadata": {},
   "source": [
    "Trabalhando com índices"
   ]
  },
  {
   "cell_type": "code",
   "execution_count": null,
   "id": "671a019e",
   "metadata": {},
   "outputs": [],
   "source": [
    "indices = [\"a\", \"b\", \"c\", \"d\", \"e\"]\n",
    "serie_pandas = pd.Series(data=lista, index=indices, name=\"coluna1\")"
   ]
  },
  {
   "cell_type": "markdown",
   "id": "f554579e",
   "metadata": {},
   "source": [
    "Podemos realizar o slicing na nossa Pandas Series da mesma forma como fizemos em listas e arrays, mas veja que agora os índices são letras, podemos utilizá-las para realizar o slicing ou a busca."
   ]
  },
  {
   "cell_type": "code",
   "execution_count": null,
   "id": "26788253",
   "metadata": {},
   "outputs": [],
   "source": [
    "print(serie_pandas['a'])\n",
    "print(serie_pandas[0])"
   ]
  },
  {
   "cell_type": "markdown",
   "id": "4566dd64",
   "metadata": {},
   "source": [
    "Da mesma forma como vimos anteriormente, é possível realizar máscaras booleanas dentro da minha série."
   ]
  },
  {
   "cell_type": "code",
   "execution_count": null,
   "id": "eff5ff29",
   "metadata": {},
   "outputs": [],
   "source": [
    "np.random.seed(42)\n",
    "\n",
    "notas = pd.Series(np.random.randint(3, 12, 30))\n",
    "\n",
    "# Máscara booleana simples\n",
    "notas[notas >= 0]"
   ]
  },
  {
   "cell_type": "code",
   "execution_count": null,
   "id": "b88335db",
   "metadata": {},
   "outputs": [],
   "source": [
    "# Podemos utiilzar mais de um critério ao mesmo tempo com o E (AND)\n",
    "notas[((notas >= 0) & (notas <= 10))]"
   ]
  },
  {
   "cell_type": "code",
   "execution_count": null,
   "id": "150947ce",
   "metadata": {},
   "outputs": [],
   "source": [
    "# Podemos utiilzar mais de um critério ao mesmo tempo com o OU (OR)\n",
    "notas[((notas >= 0) | (notas <= 10))]"
   ]
  },
  {
   "cell_type": "code",
   "execution_count": null,
   "id": "62ea7b74",
   "metadata": {},
   "outputs": [],
   "source": [
    "# E também fazer o inverso\n",
    "notas[~((notas >= 0) & (notas <= 10))]"
   ]
  },
  {
   "cell_type": "markdown",
   "id": "25f86342",
   "metadata": {},
   "source": [
    "É possivel também ordenar os dados a partir de uma coluna com o **.sort_values()**"
   ]
  },
  {
   "cell_type": "code",
   "execution_count": null,
   "id": "c3270d69",
   "metadata": {},
   "outputs": [],
   "source": [
    "notas.sort_values(ascending=False)"
   ]
  },
  {
   "cell_type": "markdown",
   "id": "7b0ac06a",
   "metadata": {},
   "source": [
    "Para encontrar valores únicos podemos utilizar o atributo **.unique()**"
   ]
  },
  {
   "cell_type": "code",
   "execution_count": null,
   "id": "cdd040fe",
   "metadata": {},
   "outputs": [],
   "source": [
    "notas.unique()"
   ]
  },
  {
   "cell_type": "markdown",
   "id": "d5a17739",
   "metadata": {},
   "source": [
    "Podemos mostrar a frequência absoluta com o atributo **.value_counts()**"
   ]
  },
  {
   "cell_type": "code",
   "execution_count": null,
   "id": "742b3216",
   "metadata": {},
   "outputs": [],
   "source": [
    "notas.value_counts()"
   ]
  },
  {
   "cell_type": "code",
   "execution_count": null,
   "id": "63ffdcd8",
   "metadata": {},
   "outputs": [],
   "source": [
    "# frequencia relativa\n",
    "notas.value_counts(normalize=True)"
   ]
  },
  {
   "cell_type": "markdown",
   "id": "44612acf",
   "metadata": {},
   "source": [
    "## DataFrame"
   ]
  },
  {
   "cell_type": "code",
   "execution_count": null,
   "id": "f7370101",
   "metadata": {},
   "outputs": [],
   "source": [
    "import numpy as np\n",
    "import pandas as pd"
   ]
  },
  {
   "cell_type": "code",
   "execution_count": null,
   "id": "63d89672",
   "metadata": {},
   "outputs": [],
   "source": [
    "df = pd.read_table('dados/dados_religiao_income.txt',\n",
    "                   header=0, sep=' ')"
   ]
  },
  {
   "cell_type": "code",
   "execution_count": null,
   "id": "1bbd1518",
   "metadata": {
    "scrolled": true
   },
   "outputs": [],
   "source": [
    "df"
   ]
  },
  {
   "cell_type": "markdown",
   "id": "1376b3ff",
   "metadata": {},
   "source": [
    "O potencial do pandas é melhor aproveitado quando usamos o conceito de \"tidy data\" para organizarmos nossos dados.\n",
    "\n",
    "Nos dados acima, eles estão pivoteados por segmentos de rendimento.\n",
    "\n",
    "Vamos então tentar ajustar isso."
   ]
  },
  {
   "cell_type": "markdown",
   "id": "3722dcce",
   "metadata": {},
   "source": [
    "Para listarmos as colunas o DataFrame possui um atributo .columns que imprime esta informação em formato de lista."
   ]
  },
  {
   "cell_type": "code",
   "execution_count": null,
   "id": "2b890cd2",
   "metadata": {},
   "outputs": [],
   "source": [
    "df.columns"
   ]
  },
  {
   "cell_type": "code",
   "execution_count": null,
   "id": "1625d2b9",
   "metadata": {},
   "outputs": [],
   "source": [
    "# Veja que podemos trabalhar como listas normalmente\n",
    "value_cols = [col for col in df.columns if col != 'religion']\n",
    "value_cols"
   ]
  },
  {
   "cell_type": "markdown",
   "id": "c4698cb6",
   "metadata": {},
   "source": [
    "## Funções Pandas\n",
    "  \n",
    "### melt  \n",
    "https://pandas.pydata.org/pandas-docs/stable/reference/api/pandas.melt.html"
   ]
  },
  {
   "cell_type": "code",
   "execution_count": null,
   "id": "7d86e92f",
   "metadata": {},
   "outputs": [],
   "source": [
    "# Podemos utilizar a função do Pandas .melt para alterar a visão do dataframe\n",
    "new_df = pd.melt(df, id_vars=['religion'], \n",
    "                 value_vars=value_cols,\n",
    "                 var_name='income', \n",
    "                 value_name='freq')\n",
    "\n",
    "new_df"
   ]
  },
  {
   "cell_type": "markdown",
   "id": "e52bc00d",
   "metadata": {},
   "source": [
    "### pivot_table"
   ]
  },
  {
   "cell_type": "code",
   "execution_count": null,
   "id": "f1295a46",
   "metadata": {},
   "outputs": [],
   "source": [
    "# Podemos voltar para o formato anterior, que facilita apresentações para o negócio.\n",
    "# Usamos o método pivot.\n",
    "new_df.pivot(index='religion', columns='income', values='freq')"
   ]
  },
  {
   "cell_type": "code",
   "execution_count": null,
   "id": "0ff46a1d",
   "metadata": {},
   "outputs": [],
   "source": [
    "new_df.pivot_table(index='religion', columns='income', values='freq', aggfunc='mean')"
   ]
  },
  {
   "cell_type": "markdown",
   "id": "d05140f2",
   "metadata": {},
   "source": [
    "### Concat  \n",
    "  \n",
    "É possível realizar a concatenação de dois ou mais dataframes por meio do método \"concat\"."
   ]
  },
  {
   "cell_type": "code",
   "execution_count": null,
   "id": "4c01f6ca",
   "metadata": {},
   "outputs": [],
   "source": [
    "# Criação de DataFrames por meio de dicionários\n",
    "df1 = pd.DataFrame({'nome':['eu', 'tu', 'ele/ela'],\n",
    "                    'val':[1, 1, 1]})\n",
    "\n",
    "# Criação de DataFrames por meio de listas\n",
    "lista_valores = [['nós', 2],\n",
    "                 ['vós', 2],\n",
    "                 ['eles/elas', 2]]\n",
    "df2 = pd.DataFrame(lista_valores, columns=['nome', 'val'])\n",
    "df2"
   ]
  },
  {
   "cell_type": "code",
   "execution_count": null,
   "id": "e6271650",
   "metadata": {},
   "outputs": [],
   "source": [
    "# Repare que por padrão o pandas já realiza o empilhamento dos dois dataframes, mas os índices estão confusos\n",
    "pd.concat([df1, df2])"
   ]
  },
  {
   "cell_type": "code",
   "execution_count": null,
   "id": "0c0d36f6",
   "metadata": {},
   "outputs": [],
   "source": [
    "# Utilizamos o método .copy() para fazermos uma cópia do dataframe\n",
    "new_df2 = df2.copy()\n",
    "\n",
    "# O atributo .index do dataframe chama os índices\n",
    "new_df2.index = [4, 5, 6]"
   ]
  },
  {
   "cell_type": "code",
   "execution_count": null,
   "id": "487037cc",
   "metadata": {},
   "outputs": [],
   "source": [
    "new_df2"
   ]
  },
  {
   "cell_type": "markdown",
   "id": "6e36495e",
   "metadata": {},
   "source": [
    "Caso se queira colocar um do lado do outro, invés de em cima, usamos o parâmetro \"axis\"."
   ]
  },
  {
   "cell_type": "code",
   "execution_count": null,
   "id": "c9432ff2",
   "metadata": {},
   "outputs": [],
   "source": [
    "# Agora ao passarmos o axis=1 ele entende que desejamos realizar uma concatenação \"lateral\" - também conhecido como merge\n",
    "pd.concat([df1, df2], axis=1)"
   ]
  },
  {
   "cell_type": "code",
   "execution_count": null,
   "id": "dbd65fc8",
   "metadata": {},
   "outputs": [],
   "source": [
    "pd.concat([df1, new_df2], axis=1)"
   ]
  },
  {
   "cell_type": "markdown",
   "id": "8c438538",
   "metadata": {},
   "source": [
    "### Rename\n",
    "  \n",
    "O rename é utilizado para renomear labels do dataframe"
   ]
  },
  {
   "cell_type": "code",
   "execution_count": null,
   "id": "2bbfe391",
   "metadata": {},
   "outputs": [],
   "source": [
    "# Para renomearmos as colunas de um dataframe utilizamos um dicionário tendo como chave o valor antigo e valor o novo\n",
    "df1.rename(columns={'nome': 'nome_alterado'})"
   ]
  },
  {
   "cell_type": "markdown",
   "id": "8c30e202",
   "metadata": {},
   "source": [
    "## Exploração de dados: Estatísticas"
   ]
  },
  {
   "cell_type": "code",
   "execution_count": null,
   "id": "62e39ca4",
   "metadata": {},
   "outputs": [],
   "source": [
    "df = pd.read_table('./dados/dados_parciais.txt', sep=';', decimal=',')"
   ]
  },
  {
   "cell_type": "markdown",
   "id": "e8bcaff8",
   "metadata": {},
   "source": [
    "### Head"
   ]
  },
  {
   "cell_type": "code",
   "execution_count": null,
   "id": "d2c16cfb",
   "metadata": {},
   "outputs": [],
   "source": [
    "# O head é utilizado para observarmos o início de um dataframe\n",
    "df.head(3)"
   ]
  },
  {
   "cell_type": "markdown",
   "id": "05351d5c",
   "metadata": {},
   "source": [
    "### Tail"
   ]
  },
  {
   "cell_type": "code",
   "execution_count": null,
   "id": "82730f0d",
   "metadata": {},
   "outputs": [],
   "source": [
    "# O tail é utilizado para observarmos o final de um dataframe\n",
    "df.tail(3)"
   ]
  },
  {
   "cell_type": "markdown",
   "id": "51572bbf",
   "metadata": {},
   "source": [
    "### Describe"
   ]
  },
  {
   "cell_type": "code",
   "execution_count": null,
   "id": "b44ad19f",
   "metadata": {},
   "outputs": [],
   "source": [
    "# Podemos sumarizar algumas estatísticas de várias colunas de uma única vez.\n",
    "df.describe()"
   ]
  },
  {
   "cell_type": "markdown",
   "id": "5f46ac7e",
   "metadata": {},
   "source": [
    "### Outras estatísticas"
   ]
  },
  {
   "cell_type": "code",
   "execution_count": null,
   "id": "59ef60e8",
   "metadata": {},
   "outputs": [],
   "source": [
    "# Também podemos fazer uma estatística de cada vez.\n",
    "df.mean()"
   ]
  },
  {
   "cell_type": "code",
   "execution_count": null,
   "id": "81302f70",
   "metadata": {},
   "outputs": [],
   "source": [
    "df.quantile([0.25, 0.75])"
   ]
  },
  {
   "cell_type": "code",
   "execution_count": null,
   "id": "7842fec7",
   "metadata": {},
   "outputs": [],
   "source": [
    "df.min(numeric_only=True)"
   ]
  },
  {
   "cell_type": "code",
   "execution_count": null,
   "id": "2fc95ada",
   "metadata": {},
   "outputs": [],
   "source": [
    "# Se quisermos estatísticas separadas para cada UF, podemos usar o groupby.\n",
    "df.groupby('regiao').mean(numeric_only=True)"
   ]
  },
  {
   "cell_type": "markdown",
   "id": "9cc2b3b5",
   "metadata": {},
   "source": [
    "### Importando novo Dataframe"
   ]
  },
  {
   "cell_type": "code",
   "execution_count": null,
   "id": "76ba0c34",
   "metadata": {},
   "outputs": [],
   "source": [
    "# Importando o dataframe de municípios\n",
    "df_muni = pd.read_table('./dados/populacao_brasileira_por_municipio.txt',\n",
    "                        sep=';',\n",
    "                        thousands='.')"
   ]
  },
  {
   "cell_type": "code",
   "execution_count": null,
   "id": "eba7b617",
   "metadata": {},
   "outputs": [],
   "source": [
    "df_muni.head(10)"
   ]
  },
  {
   "cell_type": "markdown",
   "id": "8e83c773",
   "metadata": {},
   "source": [
    "### Colunas\n",
    "  \n",
    "Podemos acessar os dados de uma colunas de dois métodos"
   ]
  },
  {
   "cell_type": "code",
   "execution_count": null,
   "id": "72db6d5f",
   "metadata": {},
   "outputs": [],
   "source": [
    "# Vamos colocar a região de cada UF na tabela acima, e \n",
    "# encontrar a população média por município para cada região.\n",
    "df.uf"
   ]
  },
  {
   "cell_type": "code",
   "execution_count": null,
   "id": "cadea24c",
   "metadata": {},
   "outputs": [],
   "source": [
    "df['uf']"
   ]
  },
  {
   "cell_type": "markdown",
   "id": "07332f47",
   "metadata": {},
   "source": [
    "Perceba que temos Ilhas, Litígio e que tem duas estrelas em pernambuco. Vamos limpar isso primeiro."
   ]
  },
  {
   "cell_type": "code",
   "execution_count": null,
   "id": "85b0e500",
   "metadata": {},
   "outputs": [],
   "source": [
    "df2 = df.loc[~df.uf.isin(['Ilhas***', 'Litígio*'])].copy()"
   ]
  },
  {
   "cell_type": "code",
   "execution_count": null,
   "id": "3cc5e1d2",
   "metadata": {},
   "outputs": [],
   "source": [
    "df.head()"
   ]
  },
  {
   "cell_type": "markdown",
   "id": "c33b2cbc",
   "metadata": {},
   "source": [
    "### Query\n",
    "  \n",
    "O método query permite realizar filtros dentro do nosso dataframe semelhante ao utilizado na linguagem SQL na clausula where"
   ]
  },
  {
   "cell_type": "code",
   "execution_count": null,
   "id": "3b3c7065",
   "metadata": {},
   "outputs": [],
   "source": [
    "df.query(\"pop_urbana < 500000\")"
   ]
  },
  {
   "cell_type": "code",
   "execution_count": null,
   "id": "f6b4da26",
   "metadata": {},
   "outputs": [],
   "source": [
    "# Podemos utilizar variáveis também\n",
    "limite = 500000\n",
    "df.query(\"`total` < @limite\")"
   ]
  },
  {
   "cell_type": "markdown",
   "id": "6943b036",
   "metadata": {},
   "source": [
    "### Operações matemáticas"
   ]
  },
  {
   "cell_type": "code",
   "execution_count": null,
   "id": "70b58339",
   "metadata": {},
   "outputs": [],
   "source": [
    "df['total dois'] = df['pop_urbana'] + df['pop_rural']"
   ]
  },
  {
   "cell_type": "code",
   "execution_count": null,
   "id": "5cf0c195",
   "metadata": {},
   "outputs": [],
   "source": [
    "df.head()"
   ]
  },
  {
   "cell_type": "markdown",
   "id": "83fa77ad",
   "metadata": {},
   "source": [
    "### Merge"
   ]
  },
  {
   "cell_type": "code",
   "execution_count": null,
   "id": "4c6aa8ca",
   "metadata": {},
   "outputs": [],
   "source": [
    "# Nós também podemos juntar tabelas diferentes, usando o método \"merge\"\n",
    "df_reg = df_muni.merge(df, left_on=['UF'], right_on=['uf'], how='left')\n",
    "df_reg"
   ]
  },
  {
   "cell_type": "code",
   "execution_count": null,
   "id": "de92db92",
   "metadata": {},
   "outputs": [],
   "source": [
    "df_reg.groupby('regiao').agg({'POPULAÇÃO ESTIMADA':['mean', 'std']})"
   ]
  },
  {
   "cell_type": "markdown",
   "id": "deee974e",
   "metadata": {},
   "source": [
    "**Bora praticar!**\n",
    "  \n",
    "1) Utilizando o DataFrame importado anteriormente (alunos3.csv) calcule a média das provas em uma nova coluna chamada (Media_provas)"
   ]
  },
  {
   "cell_type": "code",
   "execution_count": null,
   "id": "2828049b",
   "metadata": {},
   "outputs": [],
   "source": []
  },
  {
   "cell_type": "markdown",
   "id": "317131ae",
   "metadata": {},
   "source": [
    "2) Quem foram os alunos que obtiveram a maior e a menor média"
   ]
  },
  {
   "cell_type": "code",
   "execution_count": null,
   "id": "25ee28f3",
   "metadata": {},
   "outputs": [],
   "source": []
  },
  {
   "cell_type": "markdown",
   "id": "9078986d",
   "metadata": {},
   "source": [
    "3) Agora una este dataframe com o cadastro_alunos.xlsx"
   ]
  },
  {
   "cell_type": "code",
   "execution_count": null,
   "id": "9636699c",
   "metadata": {},
   "outputs": [],
   "source": []
  },
  {
   "cell_type": "markdown",
   "id": "a26fb340",
   "metadata": {},
   "source": [
    "4) Qual o média entre as Media_provas dentro do público feminino? e masculino?"
   ]
  },
  {
   "cell_type": "code",
   "execution_count": null,
   "id": "6c9bd524",
   "metadata": {},
   "outputs": [],
   "source": []
  },
  {
   "cell_type": "markdown",
   "id": "e93d6402",
   "metadata": {},
   "source": [
    "5) Qual a média de idade das pessoas que obtiveram Media_provas maior ou igual a 7?"
   ]
  },
  {
   "cell_type": "code",
   "execution_count": null,
   "id": "b90d4494",
   "metadata": {},
   "outputs": [],
   "source": []
  },
  {
   "cell_type": "markdown",
   "id": "e4779b34",
   "metadata": {},
   "source": [
    "6) Qual das cidades possui o maior média de Media_provas? E qual é este valor?"
   ]
  },
  {
   "cell_type": "code",
   "execution_count": null,
   "id": "be63905e",
   "metadata": {},
   "outputs": [],
   "source": []
  }
 ],
 "metadata": {
  "kernelspec": {
   "display_name": "Python 3 (ipykernel)",
   "language": "python",
   "name": "python3"
  },
  "language_info": {
   "codemirror_mode": {
    "name": "ipython",
    "version": 3
   },
   "file_extension": ".py",
   "mimetype": "text/x-python",
   "name": "python",
   "nbconvert_exporter": "python",
   "pygments_lexer": "ipython3",
   "version": "3.9.12"
  }
 },
 "nbformat": 4,
 "nbformat_minor": 5
}
