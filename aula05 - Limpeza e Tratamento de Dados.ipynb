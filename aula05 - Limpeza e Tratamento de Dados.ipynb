{
 "cells": [
  {
   "cell_type": "markdown",
   "id": "4f51956c",
   "metadata": {},
   "source": [
    "# Limpeza e Tratamento de Dados"
   ]
  },
  {
   "cell_type": "markdown",
   "id": "7d2e367d",
   "metadata": {},
   "source": [
    "Durante o processo de construção de um modelo temos diversas etapas como coleta de dados, pré-processamento, modelagem, avaliação e, finalmente, implantação de modelos. Destes o pré-processamento de dados é aquele com maior volume de trabalho e valor agregado. Se perguntarmos a um cientista de dados sobre seu processo de modelagem, ele dirá que é uma proporção de 60:40, o que significa que 60% do trabalho está relacionado ao pré-processamento e o resto com as técnicas de Machine Learning.\n",
    "  \n",
    "A limpeza de dados faz parte do pré-processamento e se caracteriza pela fixação ou remoção de dados incorretos, corrompidos, formatados incorretamente, duplicados ou incompletos dentro de um conjunto de dados. Ao combinar várias fontes de dados, há muitas oportunidades para que os dados sejam duplicados ou mal rotulados. Se os dados estiverem incorretos, os resultados e algoritmos não são confiáveis, mesmo que possam parecer corretos. Não há uma maneira absoluta de prescrever as etapas exatas do processo de limpeza de dados, pois os processos variam de conjunto de dados para conjunto de dados. "
   ]
  },
  {
   "cell_type": "markdown",
   "id": "b3d69b47",
   "metadata": {},
   "source": [
    "## Dados Ausentes (Missing - NaN)\n",
    "  \n",
    "Os dados do tipo missing/ausente podem ser classificados em função do padrão\n",
    "  \n",
    "**1. Missing Completely at Random (MCAR)**  \n",
    "Os dados são ditos do tipo MCAR quando “a probabilidade de estarem ausentes é independente de qualquer observação no dataset”. Essa abordagem assume que tanto os dados observados como os não observados são amostras aleatórias do mesmo mecanismo de geração de dados. Ou seja, não conseguimos encontrar uma correlação entre as classes que possuem dados ausentes e as classes que não possuem dados ausentes.\n",
    "  \n",
    "**2. Missing at Random (MAR)**  \n",
    "A abordagem de dados do tipo MAR assume que as observações com dados faltantes não respeitam uma distribuição aleatória como as amostras com dados observados. Isso significa que precisamos modelar o comportamento das amostras com dados faltantes. Há uma relação sistemática entre os dados ausentes e alguma informação coletada sobre os dados\n",
    "  \n",
    "**3. Missing not at Random (MNAR)**  \n",
    "Esse é o tipo mais geral e mais complexo. No modelo MNAR, a probabilidade é que os valores faltantes dependam não só dos dados observados assim como dos dados não observados. Não há como ignorar o mecanismo que levou os dados a estarem ausentes. Para esse tipo de dado, não podemos somente ignorar a situação, um tratamento precisa ser realizado.\n",
    "  \n",
    "fonte: https://ealexbarros.medium.com/principais-tipos-de-dados-faltantes-missing-em-um-dataset-49aa35cf18c8"
   ]
  },
  {
   "cell_type": "code",
   "execution_count": null,
   "id": "dfdd89ee",
   "metadata": {},
   "outputs": [],
   "source": [
    "import pandas as pd\n",
    "import numpy as np"
   ]
  },
  {
   "cell_type": "markdown",
   "id": "01469a6e",
   "metadata": {},
   "source": [
    "### Trabalhando com dados ausentes"
   ]
  },
  {
   "cell_type": "markdown",
   "id": "cfea390a",
   "metadata": {},
   "source": [
    "Vamos ler a base **IT_Salary_Survey_EU_2020** que está na pasta dados, utilizando o método **pd.read_excel()**"
   ]
  },
  {
   "cell_type": "code",
   "execution_count": null,
   "id": "ea564e37",
   "metadata": {},
   "outputs": [],
   "source": [
    "df_salary = pd.read_excel('./dados/IT_Salary_Survey_EU_2020.xlsx')\n",
    "df_salary.head()"
   ]
  },
  {
   "cell_type": "markdown",
   "id": "a8dc939d",
   "metadata": {},
   "source": [
    "Para descobrir quantas ocorrências de dados ausentes existem"
   ]
  },
  {
   "cell_type": "code",
   "execution_count": null,
   "id": "630c81ac",
   "metadata": {},
   "outputs": [],
   "source": [
    "df_salary.isnull().sum()"
   ]
  },
  {
   "cell_type": "code",
   "execution_count": null,
   "id": "39a17950",
   "metadata": {
    "scrolled": true
   },
   "outputs": [],
   "source": [
    "# % do Dataset\n",
    "df_salary.isnull().sum() / df_salary.shape[0]"
   ]
  },
  {
   "cell_type": "markdown",
   "id": "2448c464",
   "metadata": {},
   "source": [
    "### Tratamento dos dados\n",
    "\n",
    "1) Eliminando"
   ]
  },
  {
   "cell_type": "code",
   "execution_count": null,
   "id": "be1ec570",
   "metadata": {},
   "outputs": [],
   "source": [
    "df_salary.dropna()"
   ]
  },
  {
   "cell_type": "markdown",
   "id": "98d26e36",
   "metadata": {},
   "source": [
    "2) Inserindo valores em seu lugar\n",
    "  \n",
    "a) Média"
   ]
  },
  {
   "cell_type": "code",
   "execution_count": null,
   "id": "c7816f4f",
   "metadata": {
    "scrolled": true
   },
   "outputs": [],
   "source": [
    "df_salary[\"Age\"].replace(np.NaN, df_salary[\"Age\"].mean())"
   ]
  },
  {
   "cell_type": "markdown",
   "id": "a8ada7ab",
   "metadata": {},
   "source": [
    "b) Mediana"
   ]
  },
  {
   "cell_type": "code",
   "execution_count": null,
   "id": "8be16225",
   "metadata": {},
   "outputs": [],
   "source": [
    "df_salary[\"Age\"].replace(np.NaN, df_salary[\"Age\"].median())"
   ]
  },
  {
   "cell_type": "markdown",
   "id": "1f22faac",
   "metadata": {},
   "source": [
    "c) Moda (categóricas)"
   ]
  },
  {
   "cell_type": "code",
   "execution_count": null,
   "id": "9876c2bc",
   "metadata": {},
   "outputs": [],
   "source": [
    "import statistics\n",
    "\n",
    "df_salary[\"Seniority level\"].replace(np.NaN, statistics.mode(df_salary[\"Seniority level\"]))"
   ]
  },
  {
   "cell_type": "markdown",
   "id": "8c50f745",
   "metadata": {},
   "source": [
    "## Exploratory Data Analysis (EDA)\n",
    "\n",
    "Conforme dicutimos na primeira aula, uma habilidade **MUITO** importante que cientistas de dados devem ter é a de **olha pros dados**, que quer dizer explorar os dados, ver do que eles se tratam, se habituar com eles.\n",
    "\n",
    "Essa etapa é muitíssimo importante para que as etapas seguintes, em especial a de modelagem, funcionem adequadamente!\n",
    "\n",
    "Dentro do jargão da área, essa etapa se chama **Exploratory Data Analysis** (**Análise Exploratória dos Dados**), ou simplesmente EDA. Quando dizemos \"olhar pros dados\", é a isso que nos referimos!\n",
    "\n",
    "A etapa de EDA é muitíssimo importante, e deve tomar grande parte de um projeto de ciência de dados, como já discutimos, e ela comumente feita também com o auxílio de **gráficos** e outras ferramentas visuais. Faremos isso no próximo módulo, depois que aprendermos sobre ferramentas importantíssimas de **visualização de dados** (*dataviz*).\n",
    "\n",
    "Por hora, faremos a EDA apenas utilizando o pandas, utilizando diversos métodos e funções específicas.\n",
    "\n",
    "Lembre-se: o objetivo é que exploremos os dados o máximo possível! \n",
    "\n",
    "Então, essa é a etapa em que:\n",
    "\n",
    "- Formulamos as perguntas importantes;\n",
    "- E tentamos respondê-las com base nos dados!\n",
    "\n",
    "Vamos lá?"
   ]
  },
  {
   "cell_type": "markdown",
   "id": "e36a6fea",
   "metadata": {},
   "source": [
    "### Dataset: Titanic\n",
    "\n",
    "Agora exploraremos um pouco mais a fundo o dataset do <a href=\"https://www.kaggle.com/c/titanic\">Titanic</a>.\n",
    "\n",
    "Faremos a leitura da base, e também os primeiros passos da EDA, respondendo diversas perguntas muito interessantes.\n",
    "\n",
    "Semana que vem, após aprendermos como fazer gráficos, avançaremos na EDA de forma visual!"
   ]
  },
  {
   "cell_type": "code",
   "execution_count": null,
   "id": "be63905e",
   "metadata": {},
   "outputs": [],
   "source": [
    "df = pd.read_csv(\"./dados/titanic_completa_oficial.csv\")\n",
    "df = df.replace({\"?\":np.nan})\n",
    "df.head()"
   ]
  },
  {
   "cell_type": "code",
   "execution_count": null,
   "id": "6dd1970d",
   "metadata": {},
   "outputs": [],
   "source": [
    "# dimensão do dataframe\n",
    "# é uma tupla na forma (numero_de_linhas, numero_de_colunas)\n",
    "df.shape"
   ]
  },
  {
   "cell_type": "code",
   "execution_count": null,
   "id": "bfc88889",
   "metadata": {},
   "outputs": [],
   "source": [
    "# uma lista com as colunas\n",
    "df.columns"
   ]
  },
  {
   "cell_type": "code",
   "execution_count": null,
   "id": "31f83913",
   "metadata": {},
   "outputs": [],
   "source": [
    "df.describe()"
   ]
  },
  {
   "cell_type": "code",
   "execution_count": null,
   "id": "5c378b3b",
   "metadata": {},
   "outputs": [],
   "source": [
    "# informações sobre o df\n",
    "df.info()"
   ]
  },
  {
   "cell_type": "code",
   "execution_count": null,
   "id": "5023f2e7",
   "metadata": {},
   "outputs": [],
   "source": [
    "print(df.isnull().sum())\n",
    "print('----------------------------')\n",
    "print(df.isnull().sum() / df.shape[0])"
   ]
  },
  {
   "cell_type": "markdown",
   "id": "04b465f1",
   "metadata": {},
   "source": [
    "Não vamos esquecer do nosso objetivo"
   ]
  },
  {
   "cell_type": "code",
   "execution_count": null,
   "id": "bc217748",
   "metadata": {},
   "outputs": [],
   "source": [
    "df['survived'].value_counts()"
   ]
  },
  {
   "cell_type": "code",
   "execution_count": null,
   "id": "535862a1",
   "metadata": {},
   "outputs": [],
   "source": [
    "df[\"survived\"].value_counts(normalize=True)"
   ]
  },
  {
   "cell_type": "markdown",
   "id": "e02a5f34",
   "metadata": {},
   "source": [
    "**Bora praticar!**\n",
    "  \n",
    "Taxa de sobrevivência por:  \n",
    "  \n",
    "1) idade?  \n",
    "2) faixa etária?  \n",
    "3) sexo?  \n",
    "4) classe?   \n",
    "5) porto de embarque?  \n",
    "6) preço medio por classe?  \n",
    "7) fare?  \n",
    "\n",
    "\n",
    "(Dos que sobreviveram:)\n",
    "\n",
    "- qtos parentes tinham no navio?\n",
    "- qtos da mesma família sobreviveram?"
   ]
  },
  {
   "cell_type": "code",
   "execution_count": null,
   "id": "af0712b9",
   "metadata": {},
   "outputs": [],
   "source": []
  },
  {
   "cell_type": "code",
   "execution_count": null,
   "id": "0c3497f8",
   "metadata": {},
   "outputs": [],
   "source": []
  },
  {
   "cell_type": "code",
   "execution_count": null,
   "id": "8d39f71a",
   "metadata": {},
   "outputs": [],
   "source": []
  },
  {
   "cell_type": "code",
   "execution_count": null,
   "id": "0afcd179",
   "metadata": {},
   "outputs": [],
   "source": []
  },
  {
   "cell_type": "code",
   "execution_count": null,
   "id": "c4712bee",
   "metadata": {},
   "outputs": [],
   "source": []
  },
  {
   "cell_type": "code",
   "execution_count": null,
   "id": "236438b9",
   "metadata": {},
   "outputs": [],
   "source": []
  },
  {
   "cell_type": "code",
   "execution_count": null,
   "id": "476d9175",
   "metadata": {},
   "outputs": [],
   "source": []
  },
  {
   "cell_type": "code",
   "execution_count": null,
   "id": "35215d75",
   "metadata": {},
   "outputs": [],
   "source": []
  },
  {
   "cell_type": "code",
   "execution_count": null,
   "id": "6c2fc977",
   "metadata": {},
   "outputs": [],
   "source": []
  },
  {
   "cell_type": "markdown",
   "id": "9e3cb8b3",
   "metadata": {},
   "source": [
    "**Qual a taxa de sobrevivência entre os gêneros (homens e mulheres) e classe do navio?**"
   ]
  },
  {
   "cell_type": "code",
   "execution_count": null,
   "id": "30b447ec",
   "metadata": {},
   "outputs": [],
   "source": []
  },
  {
   "cell_type": "code",
   "execution_count": null,
   "id": "f80decb0",
   "metadata": {},
   "outputs": [],
   "source": []
  },
  {
   "cell_type": "markdown",
   "id": "6d91e84f",
   "metadata": {},
   "source": [
    "**O local de embarque também afeta a taxa de sobrevivência? E há relação com a classe?**"
   ]
  },
  {
   "cell_type": "code",
   "execution_count": null,
   "id": "c516d733",
   "metadata": {},
   "outputs": [],
   "source": []
  }
 ],
 "metadata": {
  "kernelspec": {
   "display_name": "Python 3 (ipykernel)",
   "language": "python",
   "name": "python3"
  },
  "language_info": {
   "codemirror_mode": {
    "name": "ipython",
    "version": 3
   },
   "file_extension": ".py",
   "mimetype": "text/x-python",
   "name": "python",
   "nbconvert_exporter": "python",
   "pygments_lexer": "ipython3",
   "version": "3.9.12"
  }
 },
 "nbformat": 4,
 "nbformat_minor": 5
}
