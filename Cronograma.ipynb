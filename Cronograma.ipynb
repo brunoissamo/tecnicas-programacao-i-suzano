{
 "cells": [
  {
   "cell_type": "markdown",
   "id": "879ae8ea",
   "metadata": {},
   "source": [
    "# Cronograma\n",
    "  \n",
    "* 26/out: Apresentação e Git\n",
    "* 28/out: Numpy Arrays\n",
    "* 31/out: Numpy matrizes \n",
    "* 04/nov: Pandas\n",
    "* 07/nov: Pandas\n",
    "* 09/nov: Limpeza de Dados\n",
    "* 11/nov: Transformação de Dados \n",
    "* 16/nov: Apresentação Projeto\n",
    "* 18/no: Avaliação por rubrica"
   ]
  }
 ],
 "metadata": {
  "kernelspec": {
   "display_name": "Python 3 (ipykernel)",
   "language": "python",
   "name": "python3"
  },
  "language_info": {
   "codemirror_mode": {
    "name": "ipython",
    "version": 3
   },
   "file_extension": ".py",
   "mimetype": "text/x-python",
   "name": "python",
   "nbconvert_exporter": "python",
   "pygments_lexer": "ipython3",
   "version": "3.9.12"
  }
 },
 "nbformat": 4,
 "nbformat_minor": 5
}
