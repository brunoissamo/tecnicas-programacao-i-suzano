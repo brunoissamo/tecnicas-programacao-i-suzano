{
 "cells": [
  {
   "cell_type": "markdown",
   "id": "396e845d",
   "metadata": {},
   "source": [
    "# Numpy"
   ]
  },
  {
   "cell_type": "markdown",
   "id": "f7b40eb6",
   "metadata": {},
   "source": [
    "**Relembrando**  \n",
    "  \n",
    "A biblioteca **NumPy** _(Numerical Python)_ proporciona uma forma eficiente de armazenagem e processamento de conjuntos de dados, e é utilizada como base para a construção da biblioteca Pandas, que estudaremos a seguir.\n",
    "\n",
    "O diferencial do Numpy é sua velocidade e eficiência, o que faz com que ela seja amplamente utilizada para computação científica e analise de dados. \n",
    "\n",
    "A velocidade e eficiência é possível graças à estrutura chamada **numpy array**, que é um forma eficiente de guardar e manipular matrizes, que serve como base para as tabelas que iremos utilizar."
   ]
  },
  {
   "cell_type": "code",
   "execution_count": 1,
   "id": "9c2e96a9",
   "metadata": {},
   "outputs": [],
   "source": [
    "# A gente importa o numpy sempre chamando ele de \"np\"\n",
    "import numpy as np"
   ]
  },
  {
   "cell_type": "code",
   "execution_count": 2,
   "id": "7ab9fbe9",
   "metadata": {},
   "outputs": [
    {
     "name": "stdout",
     "output_type": "stream",
     "text": [
      "[1 2 3]\n",
      "<class 'numpy.ndarray'>\n"
     ]
    }
   ],
   "source": [
    "py_array = [1,  2,  3]\n",
    "\n",
    "np_array = np.array(py_array)\n",
    "\n",
    "print(np_array)\n",
    "print(type(np_array))"
   ]
  },
  {
   "cell_type": "code",
   "execution_count": 3,
   "id": "5f3a07bf",
   "metadata": {},
   "outputs": [
    {
     "name": "stdout",
     "output_type": "stream",
     "text": [
      "<class 'numpy.int32'>\n"
     ]
    }
   ],
   "source": [
    "print(type(np_array[0]))"
   ]
  },
  {
   "cell_type": "code",
   "execution_count": 4,
   "id": "7b65c4bc",
   "metadata": {},
   "outputs": [
    {
     "name": "stdout",
     "output_type": "stream",
     "text": [
      "[[ 1  2  3]\n",
      " [ 4  5  6]\n",
      " [ 7  8  9]\n",
      " [10 11 12]]\n",
      "<class 'numpy.ndarray'>\n"
     ]
    }
   ],
   "source": [
    "# Vamos fazer uma comparação com um vetor do numpy\n",
    "py_matriz = [[1,   2,  3],\n",
    "            [4,   5,  6],\n",
    "            [7,   8,  9],\n",
    "            [10, 11, 12]]\n",
    "\n",
    "np_matriz = np.array(py_matriz)\n",
    "\n",
    "print(np_matriz)\n",
    "print(type(np_matriz))"
   ]
  },
  {
   "cell_type": "code",
   "execution_count": 6,
   "id": "4ec6934a",
   "metadata": {},
   "outputs": [
    {
     "data": {
      "text/plain": [
       "array([1, 2, 3])"
      ]
     },
     "execution_count": 6,
     "metadata": {},
     "output_type": "execute_result"
    }
   ],
   "source": [
    "np_matriz[0]"
   ]
  },
  {
   "cell_type": "code",
   "execution_count": 5,
   "id": "7cbb8c76",
   "metadata": {},
   "outputs": [
    {
     "name": "stdout",
     "output_type": "stream",
     "text": [
      "<class 'numpy.ndarray'>\n"
     ]
    }
   ],
   "source": [
    "print(type(np_matriz[0]))"
   ]
  },
  {
   "cell_type": "code",
   "execution_count": 7,
   "id": "70a6c74c",
   "metadata": {},
   "outputs": [
    {
     "name": "stdout",
     "output_type": "stream",
     "text": [
      "<class 'numpy.int32'>\n"
     ]
    }
   ],
   "source": [
    "print(type(np_matriz[0][0]))"
   ]
  },
  {
   "cell_type": "code",
   "execution_count": 8,
   "id": "ad7087b8",
   "metadata": {},
   "outputs": [
    {
     "name": "stdout",
     "output_type": "stream",
     "text": [
      "(4, 3)\n",
      "2\n",
      "int32\n"
     ]
    }
   ],
   "source": [
    "# 3 atributos básicos pra um ndarray\n",
    "print(np_matriz.shape)   # O formato dele\n",
    "print(np_matriz.ndim)    # Quantas dimensões ele tem\n",
    "print(np_matriz.dtype)   # O \"dtype\", que é o tipo dos elementos (número, letra, ...) dele"
   ]
  },
  {
   "cell_type": "code",
   "execution_count": 9,
   "id": "61e3d7b5",
   "metadata": {},
   "outputs": [
    {
     "name": "stdout",
     "output_type": "stream",
     "text": [
      "<class 'numpy.ndarray'>\n",
      "int32\n"
     ]
    }
   ],
   "source": [
    "x = np.array([1, 2, 3]) # Um vetor também é um ndarray\n",
    "print(type(x))\n",
    "print(x.dtype)"
   ]
  },
  {
   "cell_type": "code",
   "execution_count": 10,
   "id": "30797cb3",
   "metadata": {},
   "outputs": [],
   "source": [
    "# O dtype de um array do numpy pode ser controlado na hora que a gente cria.\n",
    "py_matriz = [[1,   2,  3],\n",
    "            [4,   5,  6],\n",
    "            [7,   8,  9],\n",
    "            [10, 11, 12]]\n",
    "\n",
    "matriz = np.array(py_matriz, dtype=np.float64)"
   ]
  },
  {
   "cell_type": "code",
   "execution_count": 11,
   "id": "bc3a2f7f",
   "metadata": {},
   "outputs": [
    {
     "name": "stdout",
     "output_type": "stream",
     "text": [
      "[[ 1.  2.  3.]\n",
      " [ 4.  5.  6.]\n",
      " [ 7.  8.  9.]\n",
      " [10. 11. 12.]]\n",
      "float64\n"
     ]
    }
   ],
   "source": [
    "print(matriz)\n",
    "print(matriz.dtype)"
   ]
  },
  {
   "cell_type": "code",
   "execution_count": 18,
   "id": "99c0d86d",
   "metadata": {},
   "outputs": [
    {
     "name": "stdout",
     "output_type": "stream",
     "text": [
      "1.0\n",
      "1.0\n"
     ]
    }
   ],
   "source": [
    "# Para selecionar um elemento de uma tabela no Python e no Numpy, tem uma ligeira diferença.\n",
    "print((matriz[0][0])) # Python: Pega a primeira linha. Dela, pega o primeiro elemento.\n",
    "print((matriz[0,0]))  # Numpy: Pega o elemento da linha 0, coluna 0."
   ]
  },
  {
   "cell_type": "markdown",
   "id": "6bda33f8",
   "metadata": {},
   "source": [
    "Slicing com matriz"
   ]
  },
  {
   "cell_type": "code",
   "execution_count": 22,
   "id": "8f9e2122",
   "metadata": {},
   "outputs": [
    {
     "name": "stdout",
     "output_type": "stream",
     "text": [
      "[[ 1.  2.  3.]\n",
      " [ 4.  5.  6.]\n",
      " [ 7.  8.  9.]\n",
      " [10. 11. 12.]]\n",
      "------\n",
      "[[ 2.  3.]\n",
      " [ 5.  6.]\n",
      " [ 8.  9.]\n",
      " [11. 12.]]\n",
      "------\n",
      "[4. 5. 6.]\n",
      "------\n",
      "[6. 5. 4.]\n"
     ]
    }
   ],
   "source": [
    "# Slicing funciona no numpy!\n",
    "print(matriz)\n",
    "print('------')\n",
    "print(matriz[:,1:]) # Pegando a terceira coluna\n",
    "print('------')\n",
    "print(matriz[1,:]) # Pegando a segunda linha\n",
    "print('------')\n",
    "print(matriz[1,::-1]) # Pegando a segunda linha, e invertendo seus elementos de trás pra frente."
   ]
  },
  {
   "cell_type": "markdown",
   "id": "e864132c",
   "metadata": {},
   "source": [
    "**Funções numpy**  \n",
    "O numpy também tem diversas funções para facilitar criação de matrizes."
   ]
  },
  {
   "cell_type": "code",
   "execution_count": 23,
   "id": "cb47ae67",
   "metadata": {},
   "outputs": [
    {
     "name": "stdout",
     "output_type": "stream",
     "text": [
      "[[0. 0. 0.]\n",
      " [0. 0. 0.]\n",
      " [0. 0. 0.]\n",
      " [0. 0. 0.]\n",
      " [0. 0. 0.]\n",
      " [0. 0. 0.]\n",
      " [0. 0. 0.]\n",
      " [0. 0. 0.]\n",
      " [0. 0. 0.]\n",
      " [0. 0. 0.]]\n",
      "\n",
      "[[1. 1.]\n",
      " [1. 1.]\n",
      " [1. 1.]\n",
      " [1. 1.]\n",
      " [1. 1.]]\n",
      "\n",
      "[[1. 0. 0. 0.]\n",
      " [0. 1. 0. 0.]\n",
      " [0. 0. 1. 0.]\n",
      " [0. 0. 0. 1.]]\n",
      "\n",
      "[[1. 0. 0.]\n",
      " [0. 1. 0.]\n",
      " [0. 0. 1.]\n",
      " [0. 0. 0.]]\n",
      "\n"
     ]
    }
   ],
   "source": [
    "print(np.zeros((10, 3)), end='\\n\\n') # O \"end\" muda o que o Python encaixa no fim do que ele mostra pra gente.\n",
    "print(np.ones((5,2)), end='\\n\\n') # \\n é pular linha, e é o default. \\n\\n pula 2 linhas.\n",
    "print(np.identity(4), end='\\n\\n')\n",
    "print(np.eye(4, 3), end='\\n\\n')"
   ]
  },
  {
   "cell_type": "markdown",
   "id": "af8b483d",
   "metadata": {},
   "source": [
    "# Manipulações de matrizes"
   ]
  },
  {
   "cell_type": "code",
   "execution_count": 24,
   "id": "103153e3",
   "metadata": {},
   "outputs": [
    {
     "data": {
      "text/plain": [
       "array([[ 1.,  2.,  3.],\n",
       "       [ 4.,  5.,  6.],\n",
       "       [ 7.,  8.,  9.],\n",
       "       [10., 11., 12.]])"
      ]
     },
     "execution_count": 24,
     "metadata": {},
     "output_type": "execute_result"
    }
   ],
   "source": [
    "matriz"
   ]
  },
  {
   "cell_type": "code",
   "execution_count": 25,
   "id": "5ead4367",
   "metadata": {},
   "outputs": [
    {
     "data": {
      "text/plain": [
       "array([[ 1.,  4.,  7., 10.],\n",
       "       [ 2.,  5.,  8., 11.],\n",
       "       [ 3.,  6.,  9., 12.]])"
      ]
     },
     "execution_count": 25,
     "metadata": {},
     "output_type": "execute_result"
    }
   ],
   "source": [
    "# Transposição de matrizes\n",
    "matriz.T"
   ]
  },
  {
   "cell_type": "code",
   "execution_count": 31,
   "id": "87df6a49",
   "metadata": {},
   "outputs": [
    {
     "data": {
      "text/plain": [
       "array([[ 1.,  4.,  7., 10.],\n",
       "       [ 2.,  5.,  8., 11.],\n",
       "       [ 3.,  6.,  9., 12.]])"
      ]
     },
     "execution_count": 31,
     "metadata": {},
     "output_type": "execute_result"
    }
   ],
   "source": [
    "array_transposto = np.transpose(matriz)\n",
    "array_transposto"
   ]
  },
  {
   "cell_type": "code",
   "execution_count": 34,
   "id": "b7bc6bc8",
   "metadata": {},
   "outputs": [
    {
     "data": {
      "text/plain": [
       "array([[ 1.,  4.,  7., 10.],\n",
       "       [ 2.,  5.,  8., 11.],\n",
       "       [ 3.,  6.,  9., 12.]])"
      ]
     },
     "execution_count": 34,
     "metadata": {},
     "output_type": "execute_result"
    }
   ],
   "source": [
    "matriz.transpose()"
   ]
  },
  {
   "cell_type": "code",
   "execution_count": 35,
   "id": "e347d8b8",
   "metadata": {},
   "outputs": [
    {
     "data": {
      "text/plain": [
       "(9,)"
      ]
     },
     "execution_count": 35,
     "metadata": {},
     "output_type": "execute_result"
    }
   ],
   "source": [
    "x = np.array([0.1, 0.4, 1.0, 0.2, 0.7, 1.2, 1.1, 1.0, 0.9])\n",
    "x.shape"
   ]
  },
  {
   "cell_type": "code",
   "execution_count": 36,
   "id": "5c298535",
   "metadata": {},
   "outputs": [
    {
     "data": {
      "text/plain": [
       "array([[0.1, 0.4, 1. ],\n",
       "       [0.2, 0.7, 1.2],\n",
       "       [1.1, 1. , 0.9]])"
      ]
     },
     "execution_count": 36,
     "metadata": {},
     "output_type": "execute_result"
    }
   ],
   "source": [
    "# Redimensionamento\n",
    "x.reshape(3, 3)"
   ]
  },
  {
   "cell_type": "code",
   "execution_count": 37,
   "id": "9e51e72f",
   "metadata": {},
   "outputs": [
    {
     "data": {
      "text/plain": [
       "(12,)"
      ]
     },
     "execution_count": 37,
     "metadata": {},
     "output_type": "execute_result"
    }
   ],
   "source": [
    "y = np.array([0.1, 0.4, 1.0, 0.2, 0.7, 1.2, 1.1, 1.0, 0.9, 2.0,\n",
    "              1.5, 1.6])\n",
    "y.shape"
   ]
  },
  {
   "cell_type": "code",
   "execution_count": 41,
   "id": "01201e9a",
   "metadata": {
    "scrolled": true
   },
   "outputs": [
    {
     "ename": "ValueError",
     "evalue": "cannot reshape array of size 12 into shape (3,3)",
     "output_type": "error",
     "traceback": [
      "\u001b[1;31m---------------------------------------------------------------------------\u001b[0m",
      "\u001b[1;31mValueError\u001b[0m                                Traceback (most recent call last)",
      "Input \u001b[1;32mIn [41]\u001b[0m, in \u001b[0;36m<cell line: 2>\u001b[1;34m()\u001b[0m\n\u001b[0;32m      1\u001b[0m \u001b[38;5;66;03m# Vejam o que acontece se as dimensões não são condizentes\u001b[39;00m\n\u001b[1;32m----> 2\u001b[0m \u001b[43my\u001b[49m\u001b[38;5;241;43m.\u001b[39;49m\u001b[43mreshape\u001b[49m\u001b[43m(\u001b[49m\u001b[38;5;241;43m3\u001b[39;49m\u001b[43m,\u001b[49m\u001b[43m \u001b[49m\u001b[38;5;241;43m3\u001b[39;49m\u001b[43m)\u001b[49m\n",
      "\u001b[1;31mValueError\u001b[0m: cannot reshape array of size 12 into shape (3,3)"
     ]
    }
   ],
   "source": [
    "# Vejam o que acontece se as dimensões não são condizentes\n",
    "y.reshape(3, 3)"
   ]
  },
  {
   "cell_type": "code",
   "execution_count": 49,
   "id": "b64b9ce4",
   "metadata": {},
   "outputs": [
    {
     "data": {
      "text/plain": [
       "array([[1, 2, 3, 4, 5, 6, 7, 8, 9]])"
      ]
     },
     "execution_count": 49,
     "metadata": {},
     "output_type": "execute_result"
    }
   ],
   "source": [
    "# E se eu quiser retornar para um vetor\n",
    "x = np.array([[1, 2, 3],\n",
    "              [4, 5, 6],\n",
    "              [7, 8, 9]])\n",
    "\n",
    "x.reshape((-1, 9))"
   ]
  },
  {
   "cell_type": "code",
   "execution_count": 50,
   "id": "69d11867",
   "metadata": {},
   "outputs": [
    {
     "data": {
      "text/plain": [
       "array([1, 2, 3, 4, 5, 6, 7, 8, 9])"
      ]
     },
     "execution_count": 50,
     "metadata": {},
     "output_type": "execute_result"
    }
   ],
   "source": [
    "# Também é possível utilizar o flatten\n",
    "x.flatten()"
   ]
  },
  {
   "cell_type": "code",
   "execution_count": 64,
   "id": "0bf692ae",
   "metadata": {},
   "outputs": [],
   "source": [
    "# Também podemos combinar arrays diferentes.\n",
    "# Imagina que temos duas features, altura e peso de pessoas físicas.\n",
    "x1 = np.array([[1.67, 89.],\n",
    "               [1.79, 85.],\n",
    "               [1.69, 65.],\n",
    "               [1.54, 57.],\n",
    "               [1.50, 45.]])\n",
    "\n",
    "# Porém, nós queremos testar agora adicionar uma terceira feature, se a pessoa é homem ou mulher.\n",
    "# 1 é mulher, 0 é homem\n",
    "x2 = np.array([1, 0, 1, 0, 1])\n",
    "\n",
    "# Como podemos fazer?"
   ]
  },
  {
   "cell_type": "code",
   "execution_count": 53,
   "id": "71f46c3f",
   "metadata": {},
   "outputs": [
    {
     "data": {
      "text/plain": [
       "array([[ 1.67, 89.  ,  1.  ],\n",
       "       [ 1.79, 85.  ,  0.  ],\n",
       "       [ 1.69, 65.  ,  1.  ],\n",
       "       [ 1.54, 57.  ,  0.  ],\n",
       "       [ 1.5 , 45.  ,  1.  ]])"
      ]
     },
     "execution_count": 53,
     "metadata": {},
     "output_type": "execute_result"
    }
   ],
   "source": [
    "#Podemos utilizar o concatenate\n",
    "np.concatenate((x1, x2.reshape(-1, 1)), axis=1) # O valor -1 no reshape significa que não sabemos quantas linhas teremos, o próprio numpy irá definir"
   ]
  },
  {
   "cell_type": "code",
   "execution_count": 63,
   "id": "f50d4542",
   "metadata": {},
   "outputs": [
    {
     "data": {
      "text/plain": [
       "array([[ 1.67, 89.  ,  1.  ],\n",
       "       [ 1.79, 85.  ,  0.  ],\n",
       "       [ 1.69, 65.  ,  1.  ],\n",
       "       [ 1.54, 57.  ,  0.  ],\n",
       "       [ 1.5 , 45.  ,  1.  ]])"
      ]
     },
     "execution_count": 63,
     "metadata": {},
     "output_type": "execute_result"
    }
   ],
   "source": [
    "np.concatenate((x1, x2.T), axis=1) "
   ]
  },
  {
   "cell_type": "code",
   "execution_count": 69,
   "id": "f8679c60",
   "metadata": {},
   "outputs": [
    {
     "data": {
      "text/plain": [
       "array([[ 1.67, 89.  ,  1.  ],\n",
       "       [ 1.79, 85.  ,  0.  ],\n",
       "       [ 1.69, 65.  ,  1.  ],\n",
       "       [ 1.54, 57.  ,  0.  ],\n",
       "       [ 1.5 , 45.  ,  1.  ]])"
      ]
     },
     "execution_count": 69,
     "metadata": {},
     "output_type": "execute_result"
    }
   ],
   "source": [
    "np.append(x1, x2.reshape(-1, 1), axis=1) "
   ]
  },
  {
   "cell_type": "code",
   "execution_count": 71,
   "id": "b44bef12",
   "metadata": {},
   "outputs": [
    {
     "data": {
      "text/plain": [
       "array([[ 1.67,  1.  , 89.  ],\n",
       "       [ 1.79,  0.  , 85.  ],\n",
       "       [ 1.69,  1.  , 65.  ],\n",
       "       [ 1.54,  0.  , 57.  ],\n",
       "       [ 1.5 ,  1.  , 45.  ]])"
      ]
     },
     "execution_count": 71,
     "metadata": {},
     "output_type": "execute_result"
    }
   ],
   "source": [
    "np.insert(x1, 1, x2, axis=1)"
   ]
  },
  {
   "cell_type": "code",
   "execution_count": 72,
   "id": "f427bf99",
   "metadata": {},
   "outputs": [
    {
     "data": {
      "text/plain": [
       "array([[ 1.67,  1.79,  1.69,  1.54,  1.5 ],\n",
       "       [89.  , 85.  , 65.  , 57.  , 45.  ],\n",
       "       [ 1.  ,  0.  ,  1.  ,  0.  ,  1.  ]])"
      ]
     },
     "execution_count": 72,
     "metadata": {},
     "output_type": "execute_result"
    }
   ],
   "source": [
    "np.vstack([x1.T, x2])"
   ]
  },
  {
   "cell_type": "code",
   "execution_count": 73,
   "id": "6abcbb1c",
   "metadata": {},
   "outputs": [
    {
     "data": {
      "text/plain": [
       "array([[ 1.67, 89.  ,  1.  ],\n",
       "       [ 1.79, 85.  ,  0.  ],\n",
       "       [ 1.69, 65.  ,  1.  ],\n",
       "       [ 1.54, 57.  ,  0.  ],\n",
       "       [ 1.5 , 45.  ,  1.  ]])"
      ]
     },
     "execution_count": 73,
     "metadata": {},
     "output_type": "execute_result"
    }
   ],
   "source": [
    "np.vstack([x1.T, x2]).T"
   ]
  },
  {
   "cell_type": "code",
   "execution_count": 76,
   "id": "429fec63",
   "metadata": {},
   "outputs": [
    {
     "data": {
      "text/plain": [
       "array([[ 1.67, 89.  ,  1.  ],\n",
       "       [ 1.79, 85.  ,  0.  ],\n",
       "       [ 1.69, 65.  ,  1.  ],\n",
       "       [ 1.54, 57.  ,  0.  ],\n",
       "       [ 1.5 , 45.  ,  1.  ]])"
      ]
     },
     "execution_count": 76,
     "metadata": {},
     "output_type": "execute_result"
    }
   ],
   "source": [
    "np.hstack([x1, x2.reshape(-1, 1)])"
   ]
  },
  {
   "cell_type": "code",
   "execution_count": 74,
   "id": "19ae7488",
   "metadata": {},
   "outputs": [
    {
     "data": {
      "text/plain": [
       "array([[ 1.67, 89.  ,  1.  ],\n",
       "       [ 1.79, 85.  ,  0.  ],\n",
       "       [ 1.69, 65.  ,  1.  ],\n",
       "       [ 1.54, 57.  ,  0.  ],\n",
       "       [ 1.5 , 45.  ,  1.  ]])"
      ]
     },
     "execution_count": 74,
     "metadata": {},
     "output_type": "execute_result"
    }
   ],
   "source": [
    "np.column_stack([x1, x2])"
   ]
  },
  {
   "cell_type": "code",
   "execution_count": 77,
   "id": "42ac946c",
   "metadata": {},
   "outputs": [],
   "source": [
    "# Agora temos a tabela de dados abaixo.\n",
    "table = np.array([[1.67, 89., 1],\n",
    "                  [1.79, 85., 0],\n",
    "                  [1.69, 65., 1],\n",
    "                  [1.54, 57., 0],\n",
    "                  [1.50, 45., 1]])\n",
    "\n",
    "# Mas tinhamos esquecido de outras 3 pessoas!\n",
    "new_table = np.array([[1.78, 91, 0],\n",
    "                      [1.72, 67, 1],\n",
    "                      [1.77, 76, 1]])"
   ]
  },
  {
   "cell_type": "code",
   "execution_count": 79,
   "id": "582baf26",
   "metadata": {},
   "outputs": [
    {
     "data": {
      "text/plain": [
       "array([[ 1.67, 89.  ,  1.  ],\n",
       "       [ 1.79, 85.  ,  0.  ],\n",
       "       [ 1.69, 65.  ,  1.  ],\n",
       "       [ 1.54, 57.  ,  0.  ],\n",
       "       [ 1.5 , 45.  ,  1.  ],\n",
       "       [ 1.78, 91.  ,  0.  ],\n",
       "       [ 1.72, 67.  ,  1.  ],\n",
       "       [ 1.77, 76.  ,  1.  ]])"
      ]
     },
     "execution_count": 79,
     "metadata": {},
     "output_type": "execute_result"
    }
   ],
   "source": [
    "# Como podemos juntar as tabelas?\n",
    "np.vstack([table, new_table])"
   ]
  },
  {
   "cell_type": "code",
   "execution_count": 85,
   "id": "2aa445e6",
   "metadata": {},
   "outputs": [
    {
     "data": {
      "text/plain": [
       "array([[ 1.67, 89.  ,  1.  ],\n",
       "       [ 1.79, 85.  ,  0.  ],\n",
       "       [ 1.69, 65.  ,  1.  ],\n",
       "       [ 1.54, 57.  ,  0.  ],\n",
       "       [ 1.5 , 45.  ,  1.  ],\n",
       "       [ 1.78, 91.  ,  0.  ],\n",
       "       [ 1.72, 67.  ,  1.  ],\n",
       "       [ 1.77, 76.  ,  1.  ]])"
      ]
     },
     "execution_count": 85,
     "metadata": {},
     "output_type": "execute_result"
    }
   ],
   "source": [
    "np.append(table, new_table, axis=0)"
   ]
  },
  {
   "cell_type": "code",
   "execution_count": 84,
   "id": "1ff93db0",
   "metadata": {},
   "outputs": [
    {
     "data": {
      "text/plain": [
       "array([[ 1.67, 89.  ,  1.  ],\n",
       "       [ 1.79, 85.  ,  0.  ],\n",
       "       [ 1.69, 65.  ,  1.  ],\n",
       "       [ 1.54, 57.  ,  0.  ],\n",
       "       [ 1.5 , 45.  ,  1.  ],\n",
       "       [ 1.78, 91.  ,  0.  ],\n",
       "       [ 1.72, 67.  ,  1.  ],\n",
       "       [ 1.77, 76.  ,  1.  ]])"
      ]
     },
     "execution_count": 84,
     "metadata": {},
     "output_type": "execute_result"
    }
   ],
   "source": [
    "np.append(table, new_table).reshape(-1, 3)"
   ]
  },
  {
   "cell_type": "markdown",
   "id": "5e63879e",
   "metadata": {},
   "source": [
    "# Operações Básicas"
   ]
  },
  {
   "cell_type": "code",
   "execution_count": 88,
   "id": "cb4f94c0",
   "metadata": {},
   "outputs": [
    {
     "name": "stdout",
     "output_type": "stream",
     "text": [
      "[0 1 2 3 4 5 6 7 8 9]\n",
      "[ 0  2  4  6  8 10 12 14 16 18]\n"
     ]
    }
   ],
   "source": [
    "vec1 = np.arange(0, 10, 1)\n",
    "print(vec1)\n",
    "print(vec1 * 2)"
   ]
  },
  {
   "cell_type": "code",
   "execution_count": 89,
   "id": "92aa6dfc",
   "metadata": {},
   "outputs": [
    {
     "data": {
      "text/plain": [
       "array([[ 1.,  2.,  3.],\n",
       "       [ 4.,  5.,  6.],\n",
       "       [ 7.,  8.,  9.],\n",
       "       [10., 11., 12.]])"
      ]
     },
     "execution_count": 89,
     "metadata": {},
     "output_type": "execute_result"
    }
   ],
   "source": [
    "matriz"
   ]
  },
  {
   "cell_type": "code",
   "execution_count": 90,
   "id": "dd788bdd",
   "metadata": {},
   "outputs": [
    {
     "data": {
      "text/plain": [
       "array([[ 2.,  4.,  6.],\n",
       "       [ 8., 10., 12.],\n",
       "       [14., 16., 18.],\n",
       "       [20., 22., 24.]])"
      ]
     },
     "execution_count": 90,
     "metadata": {},
     "output_type": "execute_result"
    }
   ],
   "source": [
    "#Podemos multiplicar por um escalar\n",
    "matriz_dobro = 2 * matriz\n",
    "matriz_dobro"
   ]
  },
  {
   "cell_type": "code",
   "execution_count": 91,
   "id": "a7002dda",
   "metadata": {},
   "outputs": [
    {
     "name": "stdout",
     "output_type": "stream",
     "text": [
      "[[ 3.  6.  9.]\n",
      " [12. 15. 18.]\n",
      " [21. 24. 27.]\n",
      " [30. 33. 36.]]\n"
     ]
    }
   ],
   "source": [
    "# Podemos somar duas matrizes\n",
    "print(matriz + matriz_dobro)"
   ]
  },
  {
   "cell_type": "code",
   "execution_count": 92,
   "id": "cf606dab",
   "metadata": {},
   "outputs": [
    {
     "name": "stdout",
     "output_type": "stream",
     "text": [
      "[[  2.   8.  18.]\n",
      " [ 32.  50.  72.]\n",
      " [ 98. 128. 162.]\n",
      " [200. 242. 288.]]\n"
     ]
    }
   ],
   "source": [
    "# Multiplicação elemento por elemento\n",
    "print(matriz * matriz_dobro)"
   ]
  },
  {
   "cell_type": "code",
   "execution_count": 95,
   "id": "4fedf1b6",
   "metadata": {},
   "outputs": [
    {
     "name": "stdout",
     "output_type": "stream",
     "text": [
      "(4, 3)\n",
      "(4, 3)\n"
     ]
    }
   ],
   "source": [
    "print(matriz.shape)\n",
    "print(matriz_dobro.shape)"
   ]
  },
  {
   "cell_type": "code",
   "execution_count": 98,
   "id": "97971086",
   "metadata": {},
   "outputs": [
    {
     "name": "stdout",
     "output_type": "stream",
     "text": [
      "[[ 28.  64. 100. 136.]\n",
      " [ 64. 154. 244. 334.]\n",
      " [100. 244. 388. 532.]\n",
      " [136. 334. 532. 730.]]\n",
      "----------------------------\n",
      "[[ 28.  64. 100. 136.]\n",
      " [ 64. 154. 244. 334.]\n",
      " [100. 244. 388. 532.]\n",
      " [136. 334. 532. 730.]]\n"
     ]
    }
   ],
   "source": [
    "# Produto matricial\n",
    "print(matriz @ matriz_dobro.T)\n",
    "\n",
    "print('----------------------------')\n",
    "# Outra forma de escrever a mesma coisa\n",
    "print(matriz.dot(matriz_dobro.T))"
   ]
  },
  {
   "cell_type": "markdown",
   "id": "9384d618",
   "metadata": {},
   "source": [
    "**Bora praticar!**  \n",
    "  \n",
    "Transforme o csv **dados_artificiais**, que está na pasta **dados**, para um numpy array (matriz)"
   ]
  },
  {
   "cell_type": "code",
   "execution_count": 107,
   "id": "4b3dd763",
   "metadata": {},
   "outputs": [],
   "source": [
    "lista_artificial = [[1.78881069287776, 65.6481019432242, 0],\n",
    "        [1.5667844336950, 76.6427679834926, 0],\n",
    "        [2.0921930548074, 55.4681853258539, 1],\n",
    "        [1.7824709172724, 67.28199736248, 1],\n",
    "        [1.7357669765411, 69.2890076331505, 0],\n",
    "        [1.6869746476945, 56.8400511361321, 0],\n",
    "        [1.7971046329794, 65.2089732846482, 1],\n",
    "        [1.1873490549389, 48.1647639458379, 0],\n",
    "        [1.5958914364289, 45.4106481398706, 1],\n",
    "        [1.3962817760658, 67.9301133367375, 0],\n",
    "        [1.6061481645731, 67.7196040973561, 0],\n",
    "        [1.7075899674617, 45.6093326162225, 0],\n",
    "        [1.7355131159863, 64.8454515098479, 0],\n",
    "        [1.6720551819612, 39.7059515043444, 1],\n",
    "        [1.7233770692063, 50.0588802056305, 1],\n",
    "        [1.6845742723083, 56.5450873826135, 1],\n",
    "        [1.7332589297219, 37.5121875909276, 0],\n",
    "        [1.7578996592814, 57.3624223948134, 0],\n",
    "        [1.9133377051681, 69.3072463864561, 1],\n",
    "        [1.4560483434458, 69.3423371108747, 0]\n",
    "]\n",
    "\n",
    "matriz = np.array(lista_artificial)"
   ]
  },
  {
   "cell_type": "markdown",
   "id": "5743e18c",
   "metadata": {},
   "source": [
    "Agora utilize esta matriz para calcular o IMC, utilizando a equação\n",
    "\n",
    "```\n",
    "IMC = peso / altura**2\n",
    "```\n",
    "e insira na nova tabela"
   ]
  },
  {
   "cell_type": "code",
   "execution_count": 108,
   "id": "105026ec",
   "metadata": {},
   "outputs": [
    {
     "data": {
      "text/plain": [
       "[20.516033969644194,\n",
       " 31.221422393286545,\n",
       " 12.671862322378622,\n",
       " 21.17648965106973,\n",
       " 22.99754610962119,\n",
       " 19.972726183561296,\n",
       " 20.191130450290462,\n",
       " 34.16430688742957,\n",
       " 17.82998640186705,\n",
       " 34.84305285178067,\n",
       " 26.250839638369474,\n",
       " 15.641792787462661,\n",
       " 21.528993082184783,\n",
       " 14.20215981997273,\n",
       " 16.854679954620202,\n",
       " 19.92574427273178,\n",
       " 12.486637355204843,\n",
       " 18.56262192376198,\n",
       " 18.931951552368982,\n",
       " 32.70746503885114]"
      ]
     },
     "execution_count": 108,
     "metadata": {},
     "output_type": "execute_result"
    }
   ],
   "source": [
    "calc_imc = [matriz[i][1]/(matriz[i][0]**2)  for i in range(len(matriz))]\n",
    "calc_imc"
   ]
  },
  {
   "cell_type": "code",
   "execution_count": 120,
   "id": "54d6742f",
   "metadata": {},
   "outputs": [
    {
     "data": {
      "text/plain": [
       "array([[ 1.78881069, 65.64810194,  0.        , 20.51603397],\n",
       "       [ 1.56678443, 76.64276798,  0.        , 31.22142239],\n",
       "       [ 2.09219305, 55.46818533,  1.        , 12.67186232],\n",
       "       [ 1.78247092, 67.28199736,  1.        , 21.17648965],\n",
       "       [ 1.73576698, 69.28900763,  0.        , 22.99754611],\n",
       "       [ 1.68697465, 56.84005114,  0.        , 19.97272618],\n",
       "       [ 1.79710463, 65.20897328,  1.        , 20.19113045],\n",
       "       [ 1.18734905, 48.16476395,  0.        , 34.16430689],\n",
       "       [ 1.59589144, 45.41064814,  1.        , 17.8299864 ],\n",
       "       [ 1.39628178, 67.93011334,  0.        , 34.84305285],\n",
       "       [ 1.60614816, 67.7196041 ,  0.        , 26.25083964],\n",
       "       [ 1.70758997, 45.60933262,  0.        , 15.64179279],\n",
       "       [ 1.73551312, 64.84545151,  0.        , 21.52899308],\n",
       "       [ 1.67205518, 39.7059515 ,  1.        , 14.20215982],\n",
       "       [ 1.72337707, 50.05888021,  1.        , 16.85467995],\n",
       "       [ 1.68457427, 56.54508738,  1.        , 19.92574427],\n",
       "       [ 1.73325893, 37.51218759,  0.        , 12.48663736],\n",
       "       [ 1.75789966, 57.36242239,  0.        , 18.56262192],\n",
       "       [ 1.91333771, 69.30724639,  1.        , 18.93195155],\n",
       "       [ 1.45604834, 69.34233711,  0.        , 32.70746504]])"
      ]
     },
     "execution_count": 120,
     "metadata": {},
     "output_type": "execute_result"
    }
   ],
   "source": [
    "imc_list = list()\n",
    "for pessoa in matriz:\n",
    "    peso = pessoa[1]\n",
    "    altura = pessoa[0]\n",
    "    IMC = (peso/altura**2)\n",
    "    imc_list.append(IMC)\n",
    "\n",
    "imc_array = np.array(imc_list)\n",
    "\n",
    "new_table = np.concatenate((matriz, imc_array.reshape(-1,1)), axis=1)\n",
    "\n",
    "new_table"
   ]
  },
  {
   "cell_type": "code",
   "execution_count": 117,
   "id": "4c7c66e9",
   "metadata": {},
   "outputs": [
    {
     "data": {
      "text/plain": [
       "array([[20.51603397],\n",
       "       [31.22142239],\n",
       "       [12.67186232],\n",
       "       [21.17648965],\n",
       "       [22.99754611],\n",
       "       [19.97272618],\n",
       "       [20.19113045],\n",
       "       [34.16430689],\n",
       "       [17.8299864 ],\n",
       "       [34.84305285],\n",
       "       [26.25083964],\n",
       "       [15.64179279],\n",
       "       [21.52899308],\n",
       "       [14.20215982],\n",
       "       [16.85467995],\n",
       "       [19.92574427],\n",
       "       [12.48663736],\n",
       "       [18.56262192],\n",
       "       [18.93195155],\n",
       "       [32.70746504]])"
      ]
     },
     "execution_count": 117,
     "metadata": {},
     "output_type": "execute_result"
    }
   ],
   "source": [
    "imc = np.array([peso/altura**2 for altura,peso,sexo in matriz])\n",
    "imc = imc.reshape(20,1)\n",
    "imc"
   ]
  },
  {
   "cell_type": "markdown",
   "id": "e113561c",
   "metadata": {},
   "source": [
    "| IMC             | Categoria           |   |\n",
    "|-----------------|---------------------|---|\n",
    "| abaixo de 16,00 | Baixo peso Grau III |   |\n",
    "| 16,00 a 16,99   | Baixo peso Grau II  |   |\n",
    "| 17,00 a 18.49   | Baixo peso Grau I   |   |\n",
    "| 18,50 a 24,99   | Peso ideal          |   |\n",
    "| 25,00 a 29,99   | Sobrepeso           |   |\n",
    "| 30,00 a 34,99   | Obesidade Grau I    |   |\n",
    "| 35,00 a 39,99   | Obesidade Grau II   |   |\n",
    "| 40,0 e acima    | Obesidade Grau III  |   |\n",
    "\n",
    "Agora utilize a tabela acima para indicar a qual categoria cada valor de IMC se enquadra. Insira novamente na tabela."
   ]
  },
  {
   "cell_type": "code",
   "execution_count": 113,
   "id": "b391ff54",
   "metadata": {},
   "outputs": [
    {
     "data": {
      "text/plain": [
       "array(['Peso ideal', 'Obesidade GRAU I', 'Baixo peso Grau III',\n",
       "       'Peso ideal', 'Peso ideal', 'Peso ideal', 'Peso ideal',\n",
       "       'Obesidade GRAU I', 'Baixo peso Grau I', 'Obesidade GRAU I',\n",
       "       'Sobrepeso', 'Baixo peso Grau III', 'Peso ideal',\n",
       "       'Baixo peso Grau III', 'Baixo peso Grau II', 'Peso ideal',\n",
       "       'Baixo peso Grau III', 'Peso ideal', 'Peso ideal',\n",
       "       'Obesidade GRAU I'], dtype='<U19')"
      ]
     },
     "execution_count": 113,
     "metadata": {},
     "output_type": "execute_result"
    }
   ],
   "source": [
    "#Caio\n",
    "category_list = []\n",
    "for pessoa in new_table:\n",
    "    imc = pessoa[-1]\n",
    "    if imc < 16:\n",
    "        category_list.append('Baixo peso Grau III')\n",
    "    elif imc >= 16 and imc < 16.99:\n",
    "        category_list.append('Baixo peso Grau II')\n",
    "    elif imc >= 17 and imc < 18.49:\n",
    "        category_list.append('Baixo peso Grau I')\n",
    "    elif imc >= 18.5 and imc < 24.99:\n",
    "        category_list.append('Peso ideal')\n",
    "    elif imc >= 25 and imc < 29.99:\n",
    "        category_list.append('Sobrepeso')\n",
    "    elif imc >= 30 and imc < 34.99:\n",
    "        category_list.append('Obesidade GRAU I')\n",
    "    elif imc >= 35 and imc < 39.99:\n",
    "        category_list.append('Obesidade GRAU II')\n",
    "    elif imc >= 40:\n",
    "        category_list.append('Obesidade GRAU III')\n",
    "\n",
    "category_array = np.array(category_list)\n",
    "final_table = np.concatenate((new_table, category_array.reshape(-1,1)), axis=1)\n",
    "\n",
    "final_table"
   ]
  },
  {
   "cell_type": "code",
   "execution_count": 115,
   "id": "fe1621e8",
   "metadata": {},
   "outputs": [
    {
     "data": {
      "text/plain": [
       "array([['1.78881069287776', '65.6481019432242', '0.0', 'Peso ideal'],\n",
       "       ['1.566784433695', '76.6427679834926', '0.0', 'Obesidade Grau I'],\n",
       "       ['2.0921930548074', '55.4681853258539', '1.0',\n",
       "        'Baixo peso Grau III'],\n",
       "       ['1.7824709172724', '67.28199736248', '1.0', 'Peso ideal'],\n",
       "       ['1.7357669765411', '69.2890076331505', '0.0', 'Peso ideal'],\n",
       "       ['1.6869746476945', '56.8400511361321', '0.0', 'Peso ideal'],\n",
       "       ['1.7971046329794', '65.2089732846482', '1.0', 'Peso ideal'],\n",
       "       ['1.1873490549389', '48.1647639458379', '0.0', 'Obesidade Grau I'],\n",
       "       ['1.5958914364289', '45.4106481398706', '1.0',\n",
       "        'Baixo peso Grau I'],\n",
       "       ['1.3962817760658', '67.9301133367375', '0.0', 'Obesidade Grau I'],\n",
       "       ['1.6061481645731', '67.7196040973561', '0.0', 'Sobrepeso'],\n",
       "       ['1.7075899674617', '45.6093326162225', '0.0',\n",
       "        'Baixo peso Grau III'],\n",
       "       ['1.7355131159863', '64.8454515098479', '0.0', 'Peso ideal'],\n",
       "       ['1.6720551819612', '39.7059515043444', '1.0',\n",
       "        'Baixo peso Grau III'],\n",
       "       ['1.7233770692063', '50.0588802056305', '1.0',\n",
       "        'Baixo peso Grau II'],\n",
       "       ['1.6845742723083', '56.5450873826135', '1.0', 'Peso ideal'],\n",
       "       ['1.7332589297219', '37.5121875909276', '0.0',\n",
       "        'Baixo peso Grau III'],\n",
       "       ['1.7578996592814', '57.3624223948134', '0.0', 'Peso ideal'],\n",
       "       ['1.9133377051681', '69.3072463864561', '1.0', 'Peso ideal'],\n",
       "       ['1.4560483434458', '69.3423371108747', '0.0', 'Obesidade Grau I']],\n",
       "      dtype='<U32')"
      ]
     },
     "execution_count": 115,
     "metadata": {},
     "output_type": "execute_result"
    }
   ],
   "source": [
    "# Dário\n",
    "categoria = []\n",
    "for imc in calc_imc:\n",
    "    if imc < 16:\n",
    "        categoria.append('Baixo peso Grau III')\n",
    "    elif imc <= 16.99:\n",
    "        categoria.append('Baixo peso Grau II')\n",
    "    elif imc <= 18.49:\n",
    "        categoria.append('Baixo peso Grau I')\n",
    "    elif imc <= 24.99:\n",
    "        categoria.append('Peso ideal')\n",
    "    elif imc <= 29.99:\n",
    "        categoria.append('Sobrepeso')\n",
    "    elif imc <= 34.99:\n",
    "        categoria.append('Obesidade Grau I')\n",
    "    elif imc <= 39.99:\n",
    "        categoria.append('Obesidade Grau II')\n",
    "    else:\n",
    "        categoria.append('Obesidade Grau III')\n",
    "        \n",
    "categoria = np.array(categoria).reshape((len(categoria)), 1)\n",
    "\n",
    "matriz_final = np.append(matriz, categoria, axis=1)\n",
    "matriz_final"
   ]
  },
  {
   "cell_type": "code",
   "execution_count": 121,
   "id": "3547278d",
   "metadata": {},
   "outputs": [
    {
     "data": {
      "text/plain": [
       "array([['1.78881069287776', '65.6481019432242', '0.0',\n",
       "        '20.516033969644194', 'Peso ideal'],\n",
       "       ['1.566784433695', '76.6427679834926', '0.0',\n",
       "        '31.221422393286545', 'Obesidade Grau I'],\n",
       "       ['2.0921930548074', '55.4681853258539', '1.0',\n",
       "        '12.671862322378622', 'Baixo peso Grau III'],\n",
       "       ['1.7824709172724', '67.28199736248', '1.0', '21.17648965106973',\n",
       "        'Peso ideal'],\n",
       "       ['1.7357669765411', '69.2890076331505', '0.0',\n",
       "        '22.99754610962119', 'Peso ideal'],\n",
       "       ['1.6869746476945', '56.8400511361321', '0.0',\n",
       "        '19.972726183561296', 'Peso ideal'],\n",
       "       ['1.7971046329794', '65.2089732846482', '1.0',\n",
       "        '20.191130450290462', 'Peso ideal'],\n",
       "       ['1.1873490549389', '48.1647639458379', '0.0',\n",
       "        '34.16430688742957', 'Obesidade Grau I'],\n",
       "       ['1.5958914364289', '45.4106481398706', '1.0',\n",
       "        '17.82998640186705', 'Baixo peso Grau I'],\n",
       "       ['1.3962817760658', '67.9301133367375', '0.0',\n",
       "        '34.84305285178067', 'Obesidade Grau I'],\n",
       "       ['1.6061481645731', '67.7196040973561', '0.0',\n",
       "        '26.250839638369474', 'Sobrepeso'],\n",
       "       ['1.7075899674617', '45.6093326162225', '0.0',\n",
       "        '15.641792787462661', 'Baixo peso Grau III'],\n",
       "       ['1.7355131159863', '64.8454515098479', '0.0',\n",
       "        '21.528993082184783', 'Peso ideal'],\n",
       "       ['1.6720551819612', '39.7059515043444', '1.0',\n",
       "        '14.20215981997273', 'Baixo peso Grau III'],\n",
       "       ['1.7233770692063', '50.0588802056305', '1.0',\n",
       "        '16.854679954620202', 'Baixo peso Grau II'],\n",
       "       ['1.6845742723083', '56.5450873826135', '1.0',\n",
       "        '19.92574427273178', 'Peso ideal'],\n",
       "       ['1.7332589297219', '37.5121875909276', '0.0',\n",
       "        '12.486637355204843', 'Baixo peso Grau III'],\n",
       "       ['1.7578996592814', '57.3624223948134', '0.0',\n",
       "        '18.56262192376198', 'Peso ideal'],\n",
       "       ['1.9133377051681', '69.3072463864561', '1.0',\n",
       "        '18.931951552368982', 'Peso ideal'],\n",
       "       ['1.4560483434458', '69.3423371108747', '0.0',\n",
       "        '32.70746503885114', 'Obesidade Grau I']], dtype='<U32')"
      ]
     },
     "execution_count": 121,
     "metadata": {},
     "output_type": "execute_result"
    }
   ],
   "source": [
    "# Bruno\n",
    "def func_imc_class(weight):\n",
    "    if weight < 16: return 'Baixo peso Grau III'\n",
    "    elif weight < 17: return 'Baixo peso Grau II'\n",
    "    elif weight < 18.5: return 'Baixo peso Grau I'\n",
    "    elif weight < 25: return 'Peso ideal'\n",
    "    elif weight < 30: return 'Sobrepeso'\n",
    "    elif weight < 35: return 'Obesidade Grau I'\n",
    "    elif weight < 40: return 'Obesidade Grau II'\n",
    "    else: return 'Obesidade Grau III'\n",
    "    \n",
    "imc_class = []\n",
    "for wght in imc:\n",
    "    imc_class.append(func_imc_class(wght))\n",
    "imc_class = np.array(imc_class)\n",
    "table = np.hstack([new_table,imc_class.reshape(-1,1)])\n",
    "table"
   ]
  },
  {
   "cell_type": "markdown",
   "id": "a098d472",
   "metadata": {},
   "source": [
    "### Tipos de dados"
   ]
  },
  {
   "cell_type": "markdown",
   "id": "df4dff6f",
   "metadata": {},
   "source": [
    "Primeiro vamos falar do infinito (e além).\n",
    "\n",
    "Quando fazemos operações de ponto flutuante no computador, existe um padrão técnico (definido pela IEEE, o Instituto de Engenheiros Eletro-eletrônicos) que define algumas coisas que uma biblioteca tem que ter.\n",
    "\n",
    "Especificamente, aqui vamos falar de duas coisas:\n",
    "- Not a Number (NAN)\n",
    "- Infinito"
   ]
  },
  {
   "cell_type": "code",
   "execution_count": 122,
   "id": "9b952e58",
   "metadata": {},
   "outputs": [
    {
     "ename": "ZeroDivisionError",
     "evalue": "division by zero",
     "output_type": "error",
     "traceback": [
      "\u001b[1;31m---------------------------------------------------------------------------\u001b[0m",
      "\u001b[1;31mZeroDivisionError\u001b[0m                         Traceback (most recent call last)",
      "Input \u001b[1;32mIn [122]\u001b[0m, in \u001b[0;36m<cell line: 3>\u001b[1;34m()\u001b[0m\n\u001b[0;32m      1\u001b[0m \u001b[38;5;66;03m# Not a Number é o resultado de operações inválidas.\u001b[39;00m\n\u001b[0;32m      2\u001b[0m \u001b[38;5;66;03m# Embora ele exista no Python, operações inválidas tendem a levantar um erro.\u001b[39;00m\n\u001b[1;32m----> 3\u001b[0m \u001b[38;5;241;43m0\u001b[39;49m\u001b[38;5;241;43m/\u001b[39;49m\u001b[38;5;241;43m0\u001b[39;49m\n",
      "\u001b[1;31mZeroDivisionError\u001b[0m: division by zero"
     ]
    }
   ],
   "source": [
    "# Not a Number é o resultado de operações inválidas.\n",
    "# Embora ele exista no Python, operações inválidas tendem a levantar um erro.\n",
    "0/0"
   ]
  },
  {
   "cell_type": "code",
   "execution_count": 123,
   "id": "7cd1a71f",
   "metadata": {},
   "outputs": [
    {
     "data": {
      "text/plain": [
       "nan"
      ]
     },
     "execution_count": 123,
     "metadata": {},
     "output_type": "execute_result"
    }
   ],
   "source": [
    "# Para usá-lo no python, temos que converter string para float.\n",
    "float('NaN')"
   ]
  },
  {
   "cell_type": "code",
   "execution_count": 124,
   "id": "2ed080c8",
   "metadata": {},
   "outputs": [
    {
     "name": "stdout",
     "output_type": "stream",
     "text": [
      "nan\n",
      "<class 'float'>\n"
     ]
    }
   ],
   "source": [
    "# No numpy, temos o objeto nan.\n",
    "print(np.nan)\n",
    "print(type(np.nan))"
   ]
  },
  {
   "cell_type": "code",
   "execution_count": 125,
   "id": "2e9e1480",
   "metadata": {},
   "outputs": [
    {
     "name": "stdout",
     "output_type": "stream",
     "text": [
      "[0.5 0.  0.5 nan]\n"
     ]
    },
    {
     "name": "stderr",
     "output_type": "stream",
     "text": [
      "C:\\Users\\BrunoIssamo\\AppData\\Local\\Temp\\ipykernel_15904\\1780719695.py:5: RuntimeWarning: invalid value encountered in true_divide\n",
      "  print(x1 / x2)\n"
     ]
    }
   ],
   "source": [
    "# Já no numpy, operações inválidas retornam NaN mesmo.\n",
    "x1 = np.array([1, 0, 1, 0])\n",
    "x2 = np.array([2, 1, 2, 0])\n",
    "\n",
    "print(x1 / x2)"
   ]
  },
  {
   "cell_type": "code",
   "execution_count": 126,
   "id": "14ff5b7f",
   "metadata": {},
   "outputs": [
    {
     "ename": "ZeroDivisionError",
     "evalue": "division by zero",
     "output_type": "error",
     "traceback": [
      "\u001b[1;31m---------------------------------------------------------------------------\u001b[0m",
      "\u001b[1;31mZeroDivisionError\u001b[0m                         Traceback (most recent call last)",
      "Input \u001b[1;32mIn [126]\u001b[0m, in \u001b[0;36m<cell line: 3>\u001b[1;34m()\u001b[0m\n\u001b[0;32m      1\u001b[0m \u001b[38;5;66;03m# \"Infinito\", no padrão, pode ser pensado como um número que é maior que qualquer outro número.\u001b[39;00m\n\u001b[0;32m      2\u001b[0m \u001b[38;5;66;03m# No caso de \"-infinito\", temos um número que é menor que qualquer outro número.\u001b[39;00m\n\u001b[1;32m----> 3\u001b[0m \u001b[38;5;241;43m1\u001b[39;49m\u001b[38;5;241;43m/\u001b[39;49m\u001b[38;5;241;43m0\u001b[39;49m\n",
      "\u001b[1;31mZeroDivisionError\u001b[0m: division by zero"
     ]
    }
   ],
   "source": [
    "# \"Infinito\", no padrão, pode ser pensado como um número que é maior que qualquer outro número.\n",
    "# No caso de \"-infinito\", temos um número que é menor que qualquer outro número.\n",
    "1/0"
   ]
  },
  {
   "cell_type": "code",
   "execution_count": 127,
   "id": "5fada44a",
   "metadata": {},
   "outputs": [
    {
     "name": "stdout",
     "output_type": "stream",
     "text": [
      "inf\n",
      "True\n",
      "True\n"
     ]
    }
   ],
   "source": [
    "print(float('inf'))\n",
    "print(float('inf') > 293818943824723984.928)\n",
    "print(-float('inf') < -293818943824723984.928)"
   ]
  },
  {
   "cell_type": "code",
   "execution_count": 128,
   "id": "5d5c065e",
   "metadata": {},
   "outputs": [
    {
     "name": "stdout",
     "output_type": "stream",
     "text": [
      "inf\n",
      "True\n",
      "True\n",
      "<class 'float'>\n"
     ]
    }
   ],
   "source": [
    "# No Numpy, não seria diferente.\n",
    "print(np.inf)\n",
    "print(np.inf > 293818943824723984.928)\n",
    "print(-np.inf < -293818943824723984.928)\n",
    "print(type(np.inf))"
   ]
  },
  {
   "cell_type": "code",
   "execution_count": 129,
   "id": "2d1714ff",
   "metadata": {
    "scrolled": true
   },
   "outputs": [
    {
     "name": "stdout",
     "output_type": "stream",
     "text": [
      "[ 2. inf  2. nan]\n"
     ]
    },
    {
     "name": "stderr",
     "output_type": "stream",
     "text": [
      "C:\\Users\\BrunoIssamo\\AppData\\Local\\Temp\\ipykernel_15904\\1085014809.py:5: RuntimeWarning: divide by zero encountered in true_divide\n",
      "  print(x2 / x1)\n",
      "C:\\Users\\BrunoIssamo\\AppData\\Local\\Temp\\ipykernel_15904\\1085014809.py:5: RuntimeWarning: invalid value encountered in true_divide\n",
      "  print(x2 / x1)\n"
     ]
    }
   ],
   "source": [
    "# No numpy, algumas operações podem gerar infinitos.\n",
    "x1 = np.array([1, 0, 1, 0])\n",
    "x2 = np.array([2, 1, 2, 0])\n",
    "\n",
    "print(x2 / x1)"
   ]
  },
  {
   "cell_type": "markdown",
   "id": "2fa8e736",
   "metadata": {},
   "source": [
    "Notou que tanto infinito quanto NaN são do tipo \"float\"? Não são float64, nem float32, nem anda assim.\n",
    "\n",
    "Isso é devido à hierarquia de dtypes do numpy.\n",
    "\n",
    "![hierarchy](https://numpy.org/doc/stable/_images/dtype-hierarchy.png)"
   ]
  }
 ],
 "metadata": {
  "kernelspec": {
   "display_name": "Python 3 (ipykernel)",
   "language": "python",
   "name": "python3"
  },
  "language_info": {
   "codemirror_mode": {
    "name": "ipython",
    "version": 3
   },
   "file_extension": ".py",
   "mimetype": "text/x-python",
   "name": "python",
   "nbconvert_exporter": "python",
   "pygments_lexer": "ipython3",
   "version": "3.9.12"
  },
  "vscode": {
   "interpreter": {
    "hash": "7f52069df51f55474cef70a04f6de2c8e83f851022777c4983d9d0bb63ea6184"
   }
  }
 },
 "nbformat": 4,
 "nbformat_minor": 5
}
