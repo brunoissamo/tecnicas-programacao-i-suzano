{
 "cells": [
  {
   "cell_type": "markdown",
   "id": "396e845d",
   "metadata": {},
   "source": [
    "# Numpy"
   ]
  },
  {
   "cell_type": "markdown",
   "id": "f7b40eb6",
   "metadata": {},
   "source": [
    "**Relembrando**  \n",
    "  \n",
    "A biblioteca **NumPy** _(Numerical Python)_ proporciona uma forma eficiente de armazenagem e processamento de conjuntos de dados, e é utilizada como base para a construção da biblioteca Pandas, que estudaremos a seguir.\n",
    "\n",
    "O diferencial do Numpy é sua velocidade e eficiência, o que faz com que ela seja amplamente utilizada para computação científica e analise de dados. \n",
    "\n",
    "A velocidade e eficiência é possível graças à estrutura chamada **numpy array**, que é um forma eficiente de guardar e manipular matrizes, que serve como base para as tabelas que iremos utilizar."
   ]
  },
  {
   "cell_type": "code",
   "execution_count": 1,
   "id": "9c2e96a9",
   "metadata": {},
   "outputs": [],
   "source": [
    "# A gente importa o numpy sempre chamando ele de \"np\"\n",
    "import numpy as np"
   ]
  },
  {
   "cell_type": "code",
   "execution_count": 2,
   "id": "7ab9fbe9",
   "metadata": {},
   "outputs": [
    {
     "name": "stdout",
     "output_type": "stream",
     "text": [
      "[1 2 3]\n",
      "<class 'numpy.ndarray'>\n"
     ]
    }
   ],
   "source": [
    "py_array = [1,   2,  3]\n",
    "\n",
    "np_array = np.array(py_array)\n",
    "\n",
    "print(np_array)\n",
    "print(type(np_array))"
   ]
  },
  {
   "cell_type": "code",
   "execution_count": 3,
   "id": "5f3a07bf",
   "metadata": {},
   "outputs": [
    {
     "name": "stdout",
     "output_type": "stream",
     "text": [
      "<class 'numpy.int32'>\n"
     ]
    }
   ],
   "source": [
    "print(type(np_array[0]))"
   ]
  },
  {
   "cell_type": "code",
   "execution_count": 4,
   "id": "9df32bc0",
   "metadata": {},
   "outputs": [
    {
     "name": "stdout",
     "output_type": "stream",
     "text": [
      "[[ 1  2  3]\n",
      " [ 4  5  6]\n",
      " [ 7  8  9]\n",
      " [10 11 12]]\n",
      "<class 'numpy.ndarray'>\n"
     ]
    }
   ],
   "source": [
    "# Vamos fazer uma comparação com um vetor do numpy\n",
    "py_matriz = [[1,   2,  3],\n",
    "            [4,   5,  6],\n",
    "            [7,   8,  9],\n",
    "            [10, 11, 12]]\n",
    "\n",
    "np_matriz = np.array(py_matriz)\n",
    "\n",
    "print(np_matriz)\n",
    "print(type(np_matriz))"
   ]
  },
  {
   "cell_type": "code",
   "execution_count": 5,
   "id": "4fa01cb6",
   "metadata": {},
   "outputs": [
    {
     "name": "stdout",
     "output_type": "stream",
     "text": [
      "<class 'numpy.ndarray'>\n"
     ]
    }
   ],
   "source": [
    "print(type(np_matriz[0]))"
   ]
  },
  {
   "cell_type": "code",
   "execution_count": 6,
   "id": "f4dbf466",
   "metadata": {},
   "outputs": [
    {
     "name": "stdout",
     "output_type": "stream",
     "text": [
      "<class 'numpy.int32'>\n"
     ]
    }
   ],
   "source": [
    "print(type(np_matriz[0][0]))"
   ]
  },
  {
   "cell_type": "code",
   "execution_count": 7,
   "id": "ad7087b8",
   "metadata": {},
   "outputs": [
    {
     "name": "stdout",
     "output_type": "stream",
     "text": [
      "(4, 3)\n",
      "2\n",
      "int32\n"
     ]
    }
   ],
   "source": [
    "# 3 atributos básicos pra um ndarray\n",
    "print(np_matriz.shape)   # O formato dele\n",
    "print(np_matriz.ndim)    # Quantas dimensões ele tem\n",
    "print(np_matriz.dtype)   # O \"dtype\", que é o tipo dos elementos (número, letra, ...) dele"
   ]
  },
  {
   "cell_type": "code",
   "execution_count": 8,
   "id": "61e3d7b5",
   "metadata": {},
   "outputs": [
    {
     "name": "stdout",
     "output_type": "stream",
     "text": [
      "<class 'numpy.ndarray'>\n",
      "int32\n"
     ]
    }
   ],
   "source": [
    "x = np.array([1, 2, 3]) # Um vetor também é um ndarray\n",
    "print(type(x))\n",
    "print(x.dtype)"
   ]
  },
  {
   "cell_type": "code",
   "execution_count": 9,
   "id": "01d15c42",
   "metadata": {},
   "outputs": [],
   "source": [
    "# O dtype de um array do numpy pode ser controlado na hora que a gente cria.\n",
    "py_matriz = [[1,   2,  3],\n",
    "            [4,   5,  6],\n",
    "            [7,   8,  9],\n",
    "            [10, 11, 12]]\n",
    "\n",
    "matriz = np.array(py_matriz, dtype=np.float64)"
   ]
  },
  {
   "cell_type": "code",
   "execution_count": 10,
   "id": "9d624d6a",
   "metadata": {},
   "outputs": [
    {
     "name": "stdout",
     "output_type": "stream",
     "text": [
      "[[ 1.  2.  3.]\n",
      " [ 4.  5.  6.]\n",
      " [ 7.  8.  9.]\n",
      " [10. 11. 12.]]\n",
      "float64\n"
     ]
    }
   ],
   "source": [
    "print(matriz)\n",
    "print(matriz.dtype)"
   ]
  },
  {
   "cell_type": "code",
   "execution_count": 11,
   "id": "e77e87d2",
   "metadata": {},
   "outputs": [
    {
     "name": "stdout",
     "output_type": "stream",
     "text": [
      "1.0\n",
      "1.0\n"
     ]
    }
   ],
   "source": [
    "# Para selecionar um elemento de uma tabela no Python e no Numpy, tem uma ligeira diferença.\n",
    "print((matriz[0][0])) # Python: Pega a primeira linha. Dela, pega o primeiro elemento.\n",
    "print((matriz[0,0]))  # Numpy: Pega o elemento da linha 0, coluna 0."
   ]
  },
  {
   "cell_type": "markdown",
   "id": "d12fa336",
   "metadata": {},
   "source": [
    "Slicing com matriz"
   ]
  },
  {
   "cell_type": "code",
   "execution_count": 12,
   "id": "47e5cf84",
   "metadata": {},
   "outputs": [
    {
     "name": "stdout",
     "output_type": "stream",
     "text": [
      "[[ 1.  2.  3.]\n",
      " [ 4.  5.  6.]\n",
      " [ 7.  8.  9.]\n",
      " [10. 11. 12.]]\n",
      "[ 3.  6.  9. 12.]\n",
      "[4. 5. 6.]\n",
      "[6. 5. 4.]\n"
     ]
    }
   ],
   "source": [
    "# Slicing funciona no numpy!\n",
    "print(matriz)\n",
    "print(matriz[:,2]) # Pegando a terceira coluna\n",
    "print(matriz[1,:]) # Pegando a segunda linha\n",
    "print(matriz[1,::-1]) # Pegando a segunda linha, e invertendo seus elementos de trás pra frente."
   ]
  },
  {
   "cell_type": "markdown",
   "id": "e864132c",
   "metadata": {},
   "source": [
    "**Funções numpy**  \n",
    "O numpy também tem diversas funções para facilitar criação de matrizes."
   ]
  },
  {
   "cell_type": "code",
   "execution_count": 13,
   "id": "cb47ae67",
   "metadata": {},
   "outputs": [
    {
     "name": "stdout",
     "output_type": "stream",
     "text": [
      "[[0. 0. 0.]\n",
      " [0. 0. 0.]\n",
      " [0. 0. 0.]\n",
      " [0. 0. 0.]\n",
      " [0. 0. 0.]\n",
      " [0. 0. 0.]\n",
      " [0. 0. 0.]\n",
      " [0. 0. 0.]\n",
      " [0. 0. 0.]\n",
      " [0. 0. 0.]]\n",
      "\n",
      "[[1. 1.]\n",
      " [1. 1.]\n",
      " [1. 1.]\n",
      " [1. 1.]\n",
      " [1. 1.]]\n",
      "\n",
      "[[1. 0. 0. 0.]\n",
      " [0. 1. 0. 0.]\n",
      " [0. 0. 1. 0.]\n",
      " [0. 0. 0. 1.]]\n",
      "\n",
      "[[1. 0. 0.]\n",
      " [0. 1. 0.]\n",
      " [0. 0. 1.]\n",
      " [0. 0. 0.]]\n",
      "\n"
     ]
    }
   ],
   "source": [
    "print(np.zeros((10, 3)), end='\\n\\n') # O \"end\" muda o que o Python encaixa no fim do que ele mostra pra gente.\n",
    "print(np.ones((5,2)), end='\\n\\n') # \\n é pular linha, e é o default. \\n\\n pula 2 linhas.\n",
    "# Alguns spoilers\n",
    "print(np.identity(4), end='\\n\\n')\n",
    "print(np.eye(4, 3), end='\\n\\n')"
   ]
  },
  {
   "cell_type": "markdown",
   "id": "e72d5ce2",
   "metadata": {},
   "source": [
    "# Manipulações de matrizes"
   ]
  },
  {
   "cell_type": "code",
   "execution_count": 14,
   "id": "838be6ee",
   "metadata": {},
   "outputs": [
    {
     "data": {
      "text/plain": [
       "array([[ 1.,  4.,  7., 10.],\n",
       "       [ 2.,  5.,  8., 11.],\n",
       "       [ 3.,  6.,  9., 12.]])"
      ]
     },
     "execution_count": 14,
     "metadata": {},
     "output_type": "execute_result"
    }
   ],
   "source": [
    "# Transposição de matrizes\n",
    "matriz.T"
   ]
  },
  {
   "cell_type": "code",
   "execution_count": 15,
   "id": "8f55147b",
   "metadata": {},
   "outputs": [
    {
     "data": {
      "text/plain": [
       "array([[ 1.,  4.,  7., 10.],\n",
       "       [ 2.,  5.,  8., 11.],\n",
       "       [ 3.,  6.,  9., 12.]])"
      ]
     },
     "execution_count": 15,
     "metadata": {},
     "output_type": "execute_result"
    }
   ],
   "source": [
    "np.transpose(matriz)"
   ]
  },
  {
   "cell_type": "code",
   "execution_count": 16,
   "id": "50997347",
   "metadata": {},
   "outputs": [
    {
     "data": {
      "text/plain": [
       "array([[ 1.,  4.,  7., 10.],\n",
       "       [ 2.,  5.,  8., 11.],\n",
       "       [ 3.,  6.,  9., 12.]])"
      ]
     },
     "execution_count": 16,
     "metadata": {},
     "output_type": "execute_result"
    }
   ],
   "source": [
    "matriz.transpose()"
   ]
  },
  {
   "cell_type": "code",
   "execution_count": 17,
   "id": "4a926b7f",
   "metadata": {},
   "outputs": [
    {
     "data": {
      "text/plain": [
       "array([[0.1, 0.4, 1. ],\n",
       "       [0.2, 0.7, 1.2],\n",
       "       [1.1, 1. , 0.9]])"
      ]
     },
     "execution_count": 17,
     "metadata": {},
     "output_type": "execute_result"
    }
   ],
   "source": [
    "# Redimensionamento\n",
    "x = np.array([0.1, 0.4, 1.0, 0.2, 0.7, 1.2, 1.1, 1.0, 0.9])\n",
    "\n",
    "x.reshape(3, 3)"
   ]
  },
  {
   "cell_type": "code",
   "execution_count": 18,
   "id": "555c725d",
   "metadata": {
    "scrolled": true
   },
   "outputs": [
    {
     "ename": "ValueError",
     "evalue": "cannot reshape array of size 12 into shape (3,3)",
     "output_type": "error",
     "traceback": [
      "\u001b[1;31m---------------------------------------------------------------------------\u001b[0m",
      "\u001b[1;31mValueError\u001b[0m                                Traceback (most recent call last)",
      "Input \u001b[1;32mIn [18]\u001b[0m, in \u001b[0;36m<cell line: 5>\u001b[1;34m()\u001b[0m\n\u001b[0;32m      1\u001b[0m \u001b[38;5;66;03m# Vejam o que acontece se as dimensões não são condizentes\u001b[39;00m\n\u001b[0;32m      3\u001b[0m y \u001b[38;5;241m=\u001b[39m np\u001b[38;5;241m.\u001b[39marray([\u001b[38;5;241m0.1\u001b[39m, \u001b[38;5;241m0.4\u001b[39m, \u001b[38;5;241m1.0\u001b[39m, \u001b[38;5;241m0.2\u001b[39m, \u001b[38;5;241m0.7\u001b[39m, \u001b[38;5;241m1.2\u001b[39m, \u001b[38;5;241m1.1\u001b[39m, \u001b[38;5;241m1.0\u001b[39m, \u001b[38;5;241m0.9\u001b[39m, \u001b[38;5;241m2.0\u001b[39m,\n\u001b[0;32m      4\u001b[0m               \u001b[38;5;241m1.5\u001b[39m, \u001b[38;5;241m1.6\u001b[39m])\n\u001b[1;32m----> 5\u001b[0m \u001b[43my\u001b[49m\u001b[38;5;241;43m.\u001b[39;49m\u001b[43mreshape\u001b[49m\u001b[43m(\u001b[49m\u001b[38;5;241;43m3\u001b[39;49m\u001b[43m,\u001b[49m\u001b[38;5;241;43m3\u001b[39;49m\u001b[43m)\u001b[49m\n",
      "\u001b[1;31mValueError\u001b[0m: cannot reshape array of size 12 into shape (3,3)"
     ]
    }
   ],
   "source": [
    "# Vejam o que acontece se as dimensões não são condizentes\n",
    "\n",
    "y = np.array([0.1, 0.4, 1.0, 0.2, 0.7, 1.2, 1.1, 1.0, 0.9, 2.0,\n",
    "              1.5, 1.6])\n",
    "y.reshape(3,3)"
   ]
  },
  {
   "cell_type": "code",
   "execution_count": 19,
   "id": "31870ada",
   "metadata": {},
   "outputs": [
    {
     "data": {
      "text/plain": [
       "array([[1, 2, 3, 4, 5, 6, 7, 8, 9]])"
      ]
     },
     "execution_count": 19,
     "metadata": {},
     "output_type": "execute_result"
    }
   ],
   "source": [
    "# E se eu quiser retornar para um vetor\n",
    "x = np.array([[1, 2, 3],\n",
    "              [4, 5, 6],\n",
    "              [7, 8, 9]])\n",
    "\n",
    "x.reshape((1, 9))"
   ]
  },
  {
   "cell_type": "code",
   "execution_count": 20,
   "id": "d300936f",
   "metadata": {},
   "outputs": [
    {
     "data": {
      "text/plain": [
       "array([1, 2, 3, 4, 5, 6, 7, 8, 9])"
      ]
     },
     "execution_count": 20,
     "metadata": {},
     "output_type": "execute_result"
    }
   ],
   "source": [
    "# Também é possível utilizar o flatten\n",
    "x.flatten()"
   ]
  },
  {
   "cell_type": "code",
   "execution_count": 21,
   "id": "7c33e336",
   "metadata": {},
   "outputs": [],
   "source": [
    "# Também podemos combinar arrays diferentes.\n",
    "# Imagina que temos duas features, altura e peso de pessoas físicas.\n",
    "x1 = np.array([[1.67, 89.],\n",
    "               [1.79, 85.],\n",
    "               [1.69, 65.],\n",
    "               [1.54, 57.],\n",
    "               [1.50, 45.]])\n",
    "\n",
    "# Porém, nós queremos testar agora adicionar uma terceira feature, se a pessoa é homem ou mulher.\n",
    "# 1 é mulher, 0 é homem\n",
    "x2 = np.array([1, 0, 1, 0, 1])\n",
    "\n",
    "# Como podemos fazer?"
   ]
  },
  {
   "cell_type": "code",
   "execution_count": 22,
   "id": "6eb1e527",
   "metadata": {},
   "outputs": [
    {
     "data": {
      "text/plain": [
       "array([[ 1.67, 89.  ,  1.  ],\n",
       "       [ 1.79, 85.  ,  0.  ],\n",
       "       [ 1.69, 65.  ,  1.  ],\n",
       "       [ 1.54, 57.  ,  0.  ],\n",
       "       [ 1.5 , 45.  ,  1.  ]])"
      ]
     },
     "execution_count": 22,
     "metadata": {},
     "output_type": "execute_result"
    }
   ],
   "source": [
    "#Podemos utilizar o concatenate\n",
    "np.concatenate((x1, x2.reshape(-1, 1)), axis=1) # O valor -1 no reshape significa que não sabemos quantas linhas teremos, o próprio numpy irá definir"
   ]
  },
  {
   "cell_type": "code",
   "execution_count": 24,
   "id": "d9766d4f",
   "metadata": {},
   "outputs": [
    {
     "data": {
      "text/plain": [
       "array([[ 1.67, 89.  ,  1.  ],\n",
       "       [ 1.79, 85.  ,  0.  ],\n",
       "       [ 1.69, 65.  ,  1.  ],\n",
       "       [ 1.54, 57.  ,  0.  ],\n",
       "       [ 1.5 , 45.  ,  1.  ]])"
      ]
     },
     "execution_count": 24,
     "metadata": {},
     "output_type": "execute_result"
    }
   ],
   "source": [
    "np.append(x1, x2.reshape(-1, 1), axis=1) "
   ]
  },
  {
   "cell_type": "code",
   "execution_count": 25,
   "id": "261f717b",
   "metadata": {},
   "outputs": [
    {
     "data": {
      "text/plain": [
       "array([[ 1.67, 89.  ,  1.  ],\n",
       "       [ 1.79, 85.  ,  0.  ],\n",
       "       [ 1.69, 65.  ,  1.  ],\n",
       "       [ 1.54, 57.  ,  0.  ],\n",
       "       [ 1.5 , 45.  ,  1.  ]])"
      ]
     },
     "execution_count": 25,
     "metadata": {},
     "output_type": "execute_result"
    }
   ],
   "source": [
    "np.vstack([x1.T, x2]).T"
   ]
  },
  {
   "cell_type": "code",
   "execution_count": 26,
   "id": "c4419429",
   "metadata": {},
   "outputs": [
    {
     "data": {
      "text/plain": [
       "array([[ 1.67,  1.  , 89.  ],\n",
       "       [ 1.79,  0.  , 85.  ],\n",
       "       [ 1.69,  1.  , 65.  ],\n",
       "       [ 1.54,  0.  , 57.  ],\n",
       "       [ 1.5 ,  1.  , 45.  ]])"
      ]
     },
     "execution_count": 26,
     "metadata": {},
     "output_type": "execute_result"
    }
   ],
   "source": [
    "np.insert(x1, 1, x2, axis=1)"
   ]
  },
  {
   "cell_type": "code",
   "execution_count": 27,
   "id": "44874d4a",
   "metadata": {},
   "outputs": [
    {
     "data": {
      "text/plain": [
       "array([[ 1.67, 89.  ,  1.  ],\n",
       "       [ 1.79, 85.  ,  0.  ],\n",
       "       [ 1.69, 65.  ,  1.  ],\n",
       "       [ 1.54, 57.  ,  0.  ],\n",
       "       [ 1.5 , 45.  ,  1.  ]])"
      ]
     },
     "execution_count": 27,
     "metadata": {},
     "output_type": "execute_result"
    }
   ],
   "source": [
    "np.column_stack([x1, x2])"
   ]
  },
  {
   "cell_type": "code",
   "execution_count": 28,
   "id": "c2ba92e9",
   "metadata": {},
   "outputs": [],
   "source": [
    "# Agora temos a tabela de dados abaixo.\n",
    "table = np.array([[1.67, 89., 1],\n",
    "                  [1.79, 85., 0],\n",
    "                  [1.69, 65., 1],\n",
    "                  [1.54, 57., 0],\n",
    "                  [1.50, 45., 1]])\n",
    "\n",
    "# Mas tinhamos esquecido de outras 3 pessoas!\n",
    "new_table = np.array([[1.78, 91, 0],\n",
    "                      [1.72, 67, 1],\n",
    "                      [1.77, 76, 1]])"
   ]
  },
  {
   "cell_type": "code",
   "execution_count": 29,
   "id": "c30c3b47",
   "metadata": {},
   "outputs": [],
   "source": [
    "# Como podemos juntar as tabelas?\n",
    "\n"
   ]
  },
  {
   "cell_type": "markdown",
   "id": "c97a9455",
   "metadata": {},
   "source": [
    "# Operações Básicas"
   ]
  },
  {
   "cell_type": "code",
   "execution_count": 30,
   "id": "f378eb75",
   "metadata": {},
   "outputs": [
    {
     "data": {
      "text/plain": [
       "array([[ 2.,  4.,  6.],\n",
       "       [ 8., 10., 12.],\n",
       "       [14., 16., 18.],\n",
       "       [20., 22., 24.]])"
      ]
     },
     "execution_count": 30,
     "metadata": {},
     "output_type": "execute_result"
    }
   ],
   "source": [
    "#Podemos multiplicar por um escalar\n",
    "matriz_dobro = 2 * matriz\n",
    "matriz_dobro"
   ]
  },
  {
   "cell_type": "code",
   "execution_count": 31,
   "id": "e4ee9685",
   "metadata": {},
   "outputs": [
    {
     "name": "stdout",
     "output_type": "stream",
     "text": [
      "[[ 3.  6.  9.]\n",
      " [12. 15. 18.]\n",
      " [21. 24. 27.]\n",
      " [30. 33. 36.]]\n"
     ]
    }
   ],
   "source": [
    "# Podemos somar duas matrizes\n",
    "print(matriz + matriz_dobro)"
   ]
  },
  {
   "cell_type": "code",
   "execution_count": 32,
   "id": "cf606dab",
   "metadata": {},
   "outputs": [
    {
     "name": "stdout",
     "output_type": "stream",
     "text": [
      "[[  2.   8.  18.]\n",
      " [ 32.  50.  72.]\n",
      " [ 98. 128. 162.]\n",
      " [200. 242. 288.]]\n"
     ]
    }
   ],
   "source": [
    "# Multiplicação elemento por elemento\n",
    "print(matriz * matriz_dobro)"
   ]
  },
  {
   "cell_type": "code",
   "execution_count": 33,
   "id": "97971086",
   "metadata": {},
   "outputs": [
    {
     "name": "stdout",
     "output_type": "stream",
     "text": [
      "[[ 28.  64. 100. 136.]\n",
      " [ 64. 154. 244. 334.]\n",
      " [100. 244. 388. 532.]\n",
      " [136. 334. 532. 730.]]\n",
      "[[ 28.  64. 100. 136.]\n",
      " [ 64. 154. 244. 334.]\n",
      " [100. 244. 388. 532.]\n",
      " [136. 334. 532. 730.]]\n"
     ]
    }
   ],
   "source": [
    "# Produto matricial\n",
    "print(matriz @ matriz_dobro.T)\n",
    "\n",
    "# Outra forma de escrever a mesma coisa\n",
    "print(matriz.dot(matriz_dobro.T))"
   ]
  },
  {
   "cell_type": "markdown",
   "id": "3ba5c0e2",
   "metadata": {},
   "source": [
    "**Bora praticar!**  \n",
    "  \n",
    "Transforme o csv **dados_artificiais** que está na pasta **dados** para um numpy array (matriz)"
   ]
  },
  {
   "cell_type": "code",
   "execution_count": 55,
   "id": "020edb3e",
   "metadata": {},
   "outputs": [],
   "source": []
  },
  {
   "cell_type": "markdown",
   "id": "43f0b128",
   "metadata": {},
   "source": [
    "Agora utilize esta matriz para calcular o IMC, utilizando a equação\n",
    "\n",
    "```\n",
    "IMC = peso / altura**2\n",
    "```\n",
    "e insira na nova tabela"
   ]
  },
  {
   "cell_type": "code",
   "execution_count": 59,
   "id": "bd6ca7f8",
   "metadata": {},
   "outputs": [],
   "source": []
  },
  {
   "cell_type": "code",
   "execution_count": 64,
   "id": "8d44b433",
   "metadata": {},
   "outputs": [
    {
     "data": {
      "text/plain": [
       "array([['1.67', '89.0', '1.0', 'Normal'],\n",
       "       ['1.79', '85.0', '0.0', 'Normal'],\n",
       "       ['1.69', '65.0', '1.0', 'Normal'],\n",
       "       ['1.54', '57.0', '0.0', 'Normal'],\n",
       "       ['1.5', '45.0', '1.0', 'Normal']], dtype='<U32')"
      ]
     },
     "execution_count": 64,
     "metadata": {},
     "output_type": "execute_result"
    }
   ],
   "source": []
  },
  {
   "cell_type": "markdown",
   "id": "a531579f",
   "metadata": {},
   "source": [
    "| IMC             | Categoria           |   |\n",
    "|-----------------|---------------------|---|\n",
    "| abaixo de 16,00 | Baixo peso Grau III |   |\n",
    "| 16,00 a 16,99   | Baixo peso Grau II  |   |\n",
    "| 17,00 a 18.49   | Baixo peso Grau I   |   |\n",
    "| 18,50 a 24,99   | Peso ideal          |   |\n",
    "| 25,00 a 29,99   | Sobrepeso           |   |\n",
    "| 30,00 a 34,99   | Obesidade Grau I    |   |\n",
    "| 35,00 a 39,99   | Obesidade Grau II   |   |\n",
    "| 40,0 e acima    | Obesidade Grau III  |   |\n",
    "\n",
    "Agora utilize a tabela acima para indicar a qual categoria cada valor de IMC se enquadra. Insira novamente na tabela."
   ]
  },
  {
   "cell_type": "code",
   "execution_count": null,
   "id": "4983fdbd",
   "metadata": {},
   "outputs": [],
   "source": []
  },
  {
   "cell_type": "markdown",
   "id": "eb08ec58",
   "metadata": {},
   "source": [
    "### Tipos de dados"
   ]
  },
  {
   "cell_type": "markdown",
   "id": "fd939249",
   "metadata": {},
   "source": [
    "Primeiro vamos falar do infinito (e além).\n",
    "\n",
    "Quando fazemos operações de ponto flutuante no computador, existe um padrão técnico (definido pela IEEE, o Instituto de Engenheiros Eletro-eletrônicos) que define algumas coisas que uma biblioteca tem que ter.\n",
    "\n",
    "Especificamente, aqui vamos falar de duas coisas:\n",
    "- Not a Number (NAN)\n",
    "- Infinito"
   ]
  },
  {
   "cell_type": "code",
   "execution_count": 34,
   "id": "93e73070",
   "metadata": {},
   "outputs": [
    {
     "ename": "ZeroDivisionError",
     "evalue": "division by zero",
     "output_type": "error",
     "traceback": [
      "\u001b[1;31m---------------------------------------------------------------------------\u001b[0m",
      "\u001b[1;31mZeroDivisionError\u001b[0m                         Traceback (most recent call last)",
      "Input \u001b[1;32mIn [34]\u001b[0m, in \u001b[0;36m<cell line: 3>\u001b[1;34m()\u001b[0m\n\u001b[0;32m      1\u001b[0m \u001b[38;5;66;03m# Not a Number é o resultado de operações inválidas.\u001b[39;00m\n\u001b[0;32m      2\u001b[0m \u001b[38;5;66;03m# Embora ele exista no Python, operações inválidas tendem a levantar um erro.\u001b[39;00m\n\u001b[1;32m----> 3\u001b[0m \u001b[38;5;241;43m0\u001b[39;49m\u001b[38;5;241;43m/\u001b[39;49m\u001b[38;5;241;43m0\u001b[39;49m\n",
      "\u001b[1;31mZeroDivisionError\u001b[0m: division by zero"
     ]
    }
   ],
   "source": [
    "# Not a Number é o resultado de operações inválidas.\n",
    "# Embora ele exista no Python, operações inválidas tendem a levantar um erro.\n",
    "0/0"
   ]
  },
  {
   "cell_type": "code",
   "execution_count": 35,
   "id": "ab553637",
   "metadata": {},
   "outputs": [
    {
     "data": {
      "text/plain": [
       "nan"
      ]
     },
     "execution_count": 35,
     "metadata": {},
     "output_type": "execute_result"
    }
   ],
   "source": [
    "# Para usá-lo no python, temos que converter string para float.\n",
    "float('NaN')"
   ]
  },
  {
   "cell_type": "code",
   "execution_count": 36,
   "id": "262f208f",
   "metadata": {},
   "outputs": [
    {
     "name": "stdout",
     "output_type": "stream",
     "text": [
      "nan\n",
      "<class 'float'>\n"
     ]
    }
   ],
   "source": [
    "# No numpy, temos o objeto nan.\n",
    "print(np.nan)\n",
    "print(type(np.nan))"
   ]
  },
  {
   "cell_type": "code",
   "execution_count": 37,
   "id": "ff7b8131",
   "metadata": {},
   "outputs": [
    {
     "name": "stdout",
     "output_type": "stream",
     "text": [
      "[0.5 0.  0.5 nan]\n"
     ]
    },
    {
     "name": "stderr",
     "output_type": "stream",
     "text": [
      "C:\\Users\\BrunoIssamo\\AppData\\Local\\Temp\\ipykernel_27652\\1780719695.py:5: RuntimeWarning: invalid value encountered in true_divide\n",
      "  print(x1 / x2)\n"
     ]
    }
   ],
   "source": [
    "# Já no numpy, operações inválidas retornam NaN mesmo.\n",
    "x1 = np.array([1, 0, 1, 0])\n",
    "x2 = np.array([2, 1, 2, 0])\n",
    "\n",
    "print(x1 / x2)"
   ]
  },
  {
   "cell_type": "code",
   "execution_count": 38,
   "id": "1a23b0a0",
   "metadata": {},
   "outputs": [
    {
     "ename": "ZeroDivisionError",
     "evalue": "division by zero",
     "output_type": "error",
     "traceback": [
      "\u001b[1;31m---------------------------------------------------------------------------\u001b[0m",
      "\u001b[1;31mZeroDivisionError\u001b[0m                         Traceback (most recent call last)",
      "Input \u001b[1;32mIn [38]\u001b[0m, in \u001b[0;36m<cell line: 3>\u001b[1;34m()\u001b[0m\n\u001b[0;32m      1\u001b[0m \u001b[38;5;66;03m# \"Infinito\", no padrão, pode ser pensado como um número que é maior que qualquer outro número.\u001b[39;00m\n\u001b[0;32m      2\u001b[0m \u001b[38;5;66;03m# No caso de \"-infinito\", temos um número que é menor que qualquer outro número.\u001b[39;00m\n\u001b[1;32m----> 3\u001b[0m \u001b[38;5;241;43m1\u001b[39;49m\u001b[38;5;241;43m/\u001b[39;49m\u001b[38;5;241;43m0\u001b[39;49m\n",
      "\u001b[1;31mZeroDivisionError\u001b[0m: division by zero"
     ]
    }
   ],
   "source": [
    "# \"Infinito\", no padrão, pode ser pensado como um número que é maior que qualquer outro número.\n",
    "# No caso de \"-infinito\", temos um número que é menor que qualquer outro número.\n",
    "1/0"
   ]
  },
  {
   "cell_type": "code",
   "execution_count": 39,
   "id": "57d4ca6d",
   "metadata": {},
   "outputs": [
    {
     "name": "stdout",
     "output_type": "stream",
     "text": [
      "inf\n",
      "True\n",
      "True\n"
     ]
    }
   ],
   "source": [
    "print(float('inf'))\n",
    "print(float('inf') > 293818943824723984.928)\n",
    "print(-float('inf') < -293818943824723984.928)"
   ]
  },
  {
   "cell_type": "code",
   "execution_count": 40,
   "id": "560cb3e4",
   "metadata": {},
   "outputs": [
    {
     "name": "stdout",
     "output_type": "stream",
     "text": [
      "inf\n",
      "True\n",
      "True\n",
      "<class 'float'>\n"
     ]
    }
   ],
   "source": [
    "# No Numpy, não seria diferente.\n",
    "print(np.inf)\n",
    "print(np.inf > 293818943824723984.928)\n",
    "print(-np.inf < -293818943824723984.928)\n",
    "print(type(np.inf))"
   ]
  },
  {
   "cell_type": "code",
   "execution_count": 41,
   "id": "1d758a1a",
   "metadata": {
    "scrolled": true
   },
   "outputs": [
    {
     "name": "stdout",
     "output_type": "stream",
     "text": [
      "[ 2. inf  2. nan]\n"
     ]
    },
    {
     "name": "stderr",
     "output_type": "stream",
     "text": [
      "C:\\Users\\BrunoIssamo\\AppData\\Local\\Temp\\ipykernel_27652\\1085014809.py:5: RuntimeWarning: divide by zero encountered in true_divide\n",
      "  print(x2 / x1)\n",
      "C:\\Users\\BrunoIssamo\\AppData\\Local\\Temp\\ipykernel_27652\\1085014809.py:5: RuntimeWarning: invalid value encountered in true_divide\n",
      "  print(x2 / x1)\n"
     ]
    }
   ],
   "source": [
    "# No numpy, algumas operações podem gerar infinitos.\n",
    "x1 = np.array([1, 0, 1, 0])\n",
    "x2 = np.array([2, 1, 2, 0])\n",
    "\n",
    "print(x2 / x1)"
   ]
  },
  {
   "cell_type": "markdown",
   "id": "df13da1a",
   "metadata": {},
   "source": [
    "Notou que tanto infinito quanto NaN são do tipo \"float\"? Não são float64, nem float32, nem anda assim.\n",
    "\n",
    "Isso é devido à hierarquia de dtypes do numpy.\n",
    "\n",
    "![hierarchy](https://numpy.org/doc/stable/_images/dtype-hierarchy.png)"
   ]
  }
 ],
 "metadata": {
  "kernelspec": {
   "display_name": "Python 3 (ipykernel)",
   "language": "python",
   "name": "python3"
  },
  "language_info": {
   "codemirror_mode": {
    "name": "ipython",
    "version": 3
   },
   "file_extension": ".py",
   "mimetype": "text/x-python",
   "name": "python",
   "nbconvert_exporter": "python",
   "pygments_lexer": "ipython3",
   "version": "3.9.12"
  },
  "vscode": {
   "interpreter": {
    "hash": "7f52069df51f55474cef70a04f6de2c8e83f851022777c4983d9d0bb63ea6184"
   }
  }
 },
 "nbformat": 4,
 "nbformat_minor": 5
}
